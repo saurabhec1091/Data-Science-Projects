{
 "cells": [
  {
   "cell_type": "code",
   "execution_count": 2,
   "metadata": {
    "ExecuteTime": {
     "end_time": "2020-09-07T13:13:30.460417Z",
     "start_time": "2020-09-07T13:13:28.265680Z"
    }
   },
   "outputs": [],
   "source": [
    "import pandas as pd\n",
    "import numpy as np"
   ]
  },
  {
   "cell_type": "code",
   "execution_count": 3,
   "metadata": {
    "ExecuteTime": {
     "end_time": "2020-09-07T13:13:30.613327Z",
     "start_time": "2020-09-07T13:13:30.485402Z"
    }
   },
   "outputs": [
    {
     "data": {
      "text/html": [
       "<div>\n",
       "<style scoped>\n",
       "    .dataframe tbody tr th:only-of-type {\n",
       "        vertical-align: middle;\n",
       "    }\n",
       "\n",
       "    .dataframe tbody tr th {\n",
       "        vertical-align: top;\n",
       "    }\n",
       "\n",
       "    .dataframe thead th {\n",
       "        text-align: right;\n",
       "    }\n",
       "</style>\n",
       "<table border=\"1\" class=\"dataframe\">\n",
       "  <thead>\n",
       "    <tr style=\"text-align: right;\">\n",
       "      <th></th>\n",
       "      <th>Unnamed: 0</th>\n",
       "      <th>transaction</th>\n",
       "      <th>balcony</th>\n",
       "      <th>bathroom</th>\n",
       "      <th>overlooking</th>\n",
       "      <th>ownership</th>\n",
       "      <th>super area</th>\n",
       "      <th>car parking</th>\n",
       "      <th>floor</th>\n",
       "      <th>carpet area</th>\n",
       "      <th>dimensions</th>\n",
       "      <th>society</th>\n",
       "      <th>status</th>\n",
       "      <th>facing</th>\n",
       "      <th>furnishing</th>\n",
       "      <th>price</th>\n",
       "      <th>BHK</th>\n",
       "    </tr>\n",
       "  </thead>\n",
       "  <tbody>\n",
       "    <tr>\n",
       "      <th>0</th>\n",
       "      <td>0</td>\n",
       "      <td>New Property</td>\n",
       "      <td></td>\n",
       "      <td>2</td>\n",
       "      <td></td>\n",
       "      <td></td>\n",
       "      <td>1149 sqft</td>\n",
       "      <td>1 Covered</td>\n",
       "      <td>5 out of 12 floors</td>\n",
       "      <td></td>\n",
       "      <td></td>\n",
       "      <td>GBP Athens</td>\n",
       "      <td>Possession by Jun '21</td>\n",
       "      <td></td>\n",
       "      <td>Semi-Furnished</td>\n",
       "      <td>4880000</td>\n",
       "      <td>2 BHK Apartment</td>\n",
       "    </tr>\n",
       "    <tr>\n",
       "      <th>1</th>\n",
       "      <td>1</td>\n",
       "      <td>New Property</td>\n",
       "      <td></td>\n",
       "      <td>3</td>\n",
       "      <td></td>\n",
       "      <td></td>\n",
       "      <td>1938 sqft</td>\n",
       "      <td>1 Covered</td>\n",
       "      <td>5 out of 12 floors</td>\n",
       "      <td></td>\n",
       "      <td></td>\n",
       "      <td>GBP Athens</td>\n",
       "      <td>Possession by Jun '21</td>\n",
       "      <td></td>\n",
       "      <td>Semi-Furnished</td>\n",
       "      <td>9180000</td>\n",
       "      <td>3 BHK Apartment</td>\n",
       "    </tr>\n",
       "    <tr>\n",
       "      <th>2</th>\n",
       "      <td>2</td>\n",
       "      <td>New Property</td>\n",
       "      <td></td>\n",
       "      <td>3</td>\n",
       "      <td></td>\n",
       "      <td></td>\n",
       "      <td>160 sqyrd</td>\n",
       "      <td>1 Covered</td>\n",
       "      <td></td>\n",
       "      <td></td>\n",
       "      <td></td>\n",
       "      <td>Ananta Lifestyle</td>\n",
       "      <td>Possession by Mar '21</td>\n",
       "      <td></td>\n",
       "      <td>Semi-Furnished</td>\n",
       "      <td>5500000</td>\n",
       "      <td>3 BHK Builder Floor</td>\n",
       "    </tr>\n",
       "    <tr>\n",
       "      <th>3</th>\n",
       "      <td>3</td>\n",
       "      <td>New Property</td>\n",
       "      <td></td>\n",
       "      <td>3</td>\n",
       "      <td></td>\n",
       "      <td>Freehold</td>\n",
       "      <td>1530 sqft</td>\n",
       "      <td>1 Covered</td>\n",
       "      <td>1 out of 18 floors</td>\n",
       "      <td></td>\n",
       "      <td></td>\n",
       "      <td>The Lake</td>\n",
       "      <td>Possession by Jul '21</td>\n",
       "      <td></td>\n",
       "      <td>Unfurnished</td>\n",
       "      <td>6400000</td>\n",
       "      <td>3 BHK Apartment</td>\n",
       "    </tr>\n",
       "    <tr>\n",
       "      <th>4</th>\n",
       "      <td>4</td>\n",
       "      <td>New Property</td>\n",
       "      <td></td>\n",
       "      <td>3</td>\n",
       "      <td></td>\n",
       "      <td></td>\n",
       "      <td>1705 sqft</td>\n",
       "      <td></td>\n",
       "      <td></td>\n",
       "      <td></td>\n",
       "      <td></td>\n",
       "      <td>Gateway Of Dreams</td>\n",
       "      <td>Possession by Jun '20</td>\n",
       "      <td></td>\n",
       "      <td>Unfurnished</td>\n",
       "      <td>6290000</td>\n",
       "      <td>3 BHK Apartment</td>\n",
       "    </tr>\n",
       "  </tbody>\n",
       "</table>\n",
       "</div>"
      ],
      "text/plain": [
       "   Unnamed: 0   transaction balcony bathroom overlooking ownership super area  \\\n",
       "0           0  New Property                2                        1149 sqft   \n",
       "1           1  New Property                3                        1938 sqft   \n",
       "2           2  New Property                3                        160 sqyrd   \n",
       "3           3  New Property                3              Freehold  1530 sqft   \n",
       "4           4  New Property                3                        1705 sqft   \n",
       "\n",
       "  car parking               floor carpet area dimensions            society  \\\n",
       "0   1 Covered  5 out of 12 floors                                GBP Athens   \n",
       "1   1 Covered  5 out of 12 floors                                GBP Athens   \n",
       "2   1 Covered                                              Ananta Lifestyle   \n",
       "3   1 Covered  1 out of 18 floors                                  The Lake   \n",
       "4                                                         Gateway Of Dreams   \n",
       "\n",
       "                  status facing      furnishing    price                  BHK  \n",
       "0  Possession by Jun '21         Semi-Furnished  4880000      2 BHK Apartment  \n",
       "1  Possession by Jun '21         Semi-Furnished  9180000      3 BHK Apartment  \n",
       "2  Possession by Mar '21         Semi-Furnished  5500000  3 BHK Builder Floor  \n",
       "3  Possession by Jul '21            Unfurnished  6400000      3 BHK Apartment  \n",
       "4  Possession by Jun '20            Unfurnished  6290000      3 BHK Apartment  "
      ]
     },
     "execution_count": 3,
     "metadata": {},
     "output_type": "execute_result"
    }
   ],
   "source": [
    "df = pd.read_csv('Chandigarh.csv')\n",
    "df.head()"
   ]
  },
  {
   "cell_type": "code",
   "execution_count": 4,
   "metadata": {
    "ExecuteTime": {
     "end_time": "2020-09-07T13:13:30.714268Z",
     "start_time": "2020-09-07T13:13:30.697281Z"
    }
   },
   "outputs": [],
   "source": [
    "df.drop('Unnamed: 0',axis=1,inplace=True)"
   ]
  },
  {
   "cell_type": "code",
   "execution_count": 5,
   "metadata": {
    "ExecuteTime": {
     "end_time": "2020-09-07T13:13:30.756244Z",
     "start_time": "2020-09-07T13:13:30.721266Z"
    }
   },
   "outputs": [
    {
     "name": "stdout",
     "output_type": "stream",
     "text": [
      "<class 'pandas.core.frame.DataFrame'>\n",
      "RangeIndex: 2520 entries, 0 to 2519\n",
      "Data columns (total 16 columns):\n",
      "transaction    2520 non-null object\n",
      "balcony        2520 non-null object\n",
      "bathroom       2520 non-null object\n",
      "overlooking    2520 non-null object\n",
      "ownership      2520 non-null object\n",
      "super area     2520 non-null object\n",
      "car parking    2520 non-null object\n",
      "floor          2520 non-null object\n",
      "carpet area    2520 non-null object\n",
      "dimensions     2520 non-null object\n",
      "society        2520 non-null object\n",
      "status         2520 non-null object\n",
      "facing         2520 non-null object\n",
      "furnishing     2520 non-null object\n",
      "price          2520 non-null int64\n",
      "BHK            2520 non-null object\n",
      "dtypes: int64(1), object(15)\n",
      "memory usage: 315.1+ KB\n"
     ]
    }
   ],
   "source": [
    "df.info()"
   ]
  },
  {
   "cell_type": "code",
   "execution_count": 6,
   "metadata": {
    "ExecuteTime": {
     "end_time": "2020-09-07T13:13:30.940140Z",
     "start_time": "2020-09-07T13:13:30.760243Z"
    }
   },
   "outputs": [
    {
     "data": {
      "text/html": [
       "<div>\n",
       "<style scoped>\n",
       "    .dataframe tbody tr th:only-of-type {\n",
       "        vertical-align: middle;\n",
       "    }\n",
       "\n",
       "    .dataframe tbody tr th {\n",
       "        vertical-align: top;\n",
       "    }\n",
       "\n",
       "    .dataframe thead th {\n",
       "        text-align: right;\n",
       "    }\n",
       "</style>\n",
       "<table border=\"1\" class=\"dataframe\">\n",
       "  <thead>\n",
       "    <tr style=\"text-align: right;\">\n",
       "      <th></th>\n",
       "      <th>count</th>\n",
       "      <th>unique</th>\n",
       "      <th>top</th>\n",
       "      <th>freq</th>\n",
       "      <th>mean</th>\n",
       "      <th>std</th>\n",
       "      <th>min</th>\n",
       "      <th>25%</th>\n",
       "      <th>50%</th>\n",
       "      <th>75%</th>\n",
       "      <th>max</th>\n",
       "    </tr>\n",
       "  </thead>\n",
       "  <tbody>\n",
       "    <tr>\n",
       "      <th>transaction</th>\n",
       "      <td>2520</td>\n",
       "      <td>2</td>\n",
       "      <td>New Property</td>\n",
       "      <td>1429</td>\n",
       "      <td>NaN</td>\n",
       "      <td>NaN</td>\n",
       "      <td>NaN</td>\n",
       "      <td>NaN</td>\n",
       "      <td>NaN</td>\n",
       "      <td>NaN</td>\n",
       "      <td>NaN</td>\n",
       "    </tr>\n",
       "    <tr>\n",
       "      <th>balcony</th>\n",
       "      <td>2520</td>\n",
       "      <td>8</td>\n",
       "      <td>2</td>\n",
       "      <td>826</td>\n",
       "      <td>NaN</td>\n",
       "      <td>NaN</td>\n",
       "      <td>NaN</td>\n",
       "      <td>NaN</td>\n",
       "      <td>NaN</td>\n",
       "      <td>NaN</td>\n",
       "      <td>NaN</td>\n",
       "    </tr>\n",
       "    <tr>\n",
       "      <th>bathroom</th>\n",
       "      <td>2520</td>\n",
       "      <td>11</td>\n",
       "      <td>3</td>\n",
       "      <td>1278</td>\n",
       "      <td>NaN</td>\n",
       "      <td>NaN</td>\n",
       "      <td>NaN</td>\n",
       "      <td>NaN</td>\n",
       "      <td>NaN</td>\n",
       "      <td>NaN</td>\n",
       "      <td>NaN</td>\n",
       "    </tr>\n",
       "    <tr>\n",
       "      <th>overlooking</th>\n",
       "      <td>2520</td>\n",
       "      <td>13</td>\n",
       "      <td></td>\n",
       "      <td>794</td>\n",
       "      <td>NaN</td>\n",
       "      <td>NaN</td>\n",
       "      <td>NaN</td>\n",
       "      <td>NaN</td>\n",
       "      <td>NaN</td>\n",
       "      <td>NaN</td>\n",
       "      <td>NaN</td>\n",
       "    </tr>\n",
       "    <tr>\n",
       "      <th>ownership</th>\n",
       "      <td>2520</td>\n",
       "      <td>5</td>\n",
       "      <td>Freehold</td>\n",
       "      <td>1924</td>\n",
       "      <td>NaN</td>\n",
       "      <td>NaN</td>\n",
       "      <td>NaN</td>\n",
       "      <td>NaN</td>\n",
       "      <td>NaN</td>\n",
       "      <td>NaN</td>\n",
       "      <td>NaN</td>\n",
       "    </tr>\n",
       "    <tr>\n",
       "      <th>super area</th>\n",
       "      <td>2520</td>\n",
       "      <td>337</td>\n",
       "      <td></td>\n",
       "      <td>1474</td>\n",
       "      <td>NaN</td>\n",
       "      <td>NaN</td>\n",
       "      <td>NaN</td>\n",
       "      <td>NaN</td>\n",
       "      <td>NaN</td>\n",
       "      <td>NaN</td>\n",
       "      <td>NaN</td>\n",
       "    </tr>\n",
       "    <tr>\n",
       "      <th>car parking</th>\n",
       "      <td>2520</td>\n",
       "      <td>35</td>\n",
       "      <td></td>\n",
       "      <td>936</td>\n",
       "      <td>NaN</td>\n",
       "      <td>NaN</td>\n",
       "      <td>NaN</td>\n",
       "      <td>NaN</td>\n",
       "      <td>NaN</td>\n",
       "      <td>NaN</td>\n",
       "      <td>NaN</td>\n",
       "    </tr>\n",
       "    <tr>\n",
       "      <th>floor</th>\n",
       "      <td>2520</td>\n",
       "      <td>184</td>\n",
       "      <td>2 out of 3 floors</td>\n",
       "      <td>223</td>\n",
       "      <td>NaN</td>\n",
       "      <td>NaN</td>\n",
       "      <td>NaN</td>\n",
       "      <td>NaN</td>\n",
       "      <td>NaN</td>\n",
       "      <td>NaN</td>\n",
       "      <td>NaN</td>\n",
       "    </tr>\n",
       "    <tr>\n",
       "      <th>carpet area</th>\n",
       "      <td>2520</td>\n",
       "      <td>350</td>\n",
       "      <td></td>\n",
       "      <td>1054</td>\n",
       "      <td>NaN</td>\n",
       "      <td>NaN</td>\n",
       "      <td>NaN</td>\n",
       "      <td>NaN</td>\n",
       "      <td>NaN</td>\n",
       "      <td>NaN</td>\n",
       "      <td>NaN</td>\n",
       "    </tr>\n",
       "    <tr>\n",
       "      <th>dimensions</th>\n",
       "      <td>2520</td>\n",
       "      <td>40</td>\n",
       "      <td></td>\n",
       "      <td>2446</td>\n",
       "      <td>NaN</td>\n",
       "      <td>NaN</td>\n",
       "      <td>NaN</td>\n",
       "      <td>NaN</td>\n",
       "      <td>NaN</td>\n",
       "      <td>NaN</td>\n",
       "      <td>NaN</td>\n",
       "    </tr>\n",
       "    <tr>\n",
       "      <th>society</th>\n",
       "      <td>2520</td>\n",
       "      <td>98</td>\n",
       "      <td></td>\n",
       "      <td>1072</td>\n",
       "      <td>NaN</td>\n",
       "      <td>NaN</td>\n",
       "      <td>NaN</td>\n",
       "      <td>NaN</td>\n",
       "      <td>NaN</td>\n",
       "      <td>NaN</td>\n",
       "      <td>NaN</td>\n",
       "    </tr>\n",
       "    <tr>\n",
       "      <th>status</th>\n",
       "      <td>2520</td>\n",
       "      <td>45</td>\n",
       "      <td>Ready to Move</td>\n",
       "      <td>1661</td>\n",
       "      <td>NaN</td>\n",
       "      <td>NaN</td>\n",
       "      <td>NaN</td>\n",
       "      <td>NaN</td>\n",
       "      <td>NaN</td>\n",
       "      <td>NaN</td>\n",
       "      <td>NaN</td>\n",
       "    </tr>\n",
       "    <tr>\n",
       "      <th>facing</th>\n",
       "      <td>2520</td>\n",
       "      <td>9</td>\n",
       "      <td>East</td>\n",
       "      <td>845</td>\n",
       "      <td>NaN</td>\n",
       "      <td>NaN</td>\n",
       "      <td>NaN</td>\n",
       "      <td>NaN</td>\n",
       "      <td>NaN</td>\n",
       "      <td>NaN</td>\n",
       "      <td>NaN</td>\n",
       "    </tr>\n",
       "    <tr>\n",
       "      <th>furnishing</th>\n",
       "      <td>2520</td>\n",
       "      <td>4</td>\n",
       "      <td>Semi-Furnished</td>\n",
       "      <td>1877</td>\n",
       "      <td>NaN</td>\n",
       "      <td>NaN</td>\n",
       "      <td>NaN</td>\n",
       "      <td>NaN</td>\n",
       "      <td>NaN</td>\n",
       "      <td>NaN</td>\n",
       "      <td>NaN</td>\n",
       "    </tr>\n",
       "    <tr>\n",
       "      <th>price</th>\n",
       "      <td>2520</td>\n",
       "      <td>NaN</td>\n",
       "      <td>NaN</td>\n",
       "      <td>NaN</td>\n",
       "      <td>1.03319e+07</td>\n",
       "      <td>1.90582e+07</td>\n",
       "      <td>0</td>\n",
       "      <td>4.31e+06</td>\n",
       "      <td>5.8e+06</td>\n",
       "      <td>8e+06</td>\n",
       "      <td>3e+08</td>\n",
       "    </tr>\n",
       "    <tr>\n",
       "      <th>BHK</th>\n",
       "      <td>2520</td>\n",
       "      <td>36</td>\n",
       "      <td>3 BHK Apartment</td>\n",
       "      <td>1029</td>\n",
       "      <td>NaN</td>\n",
       "      <td>NaN</td>\n",
       "      <td>NaN</td>\n",
       "      <td>NaN</td>\n",
       "      <td>NaN</td>\n",
       "      <td>NaN</td>\n",
       "      <td>NaN</td>\n",
       "    </tr>\n",
       "  </tbody>\n",
       "</table>\n",
       "</div>"
      ],
      "text/plain": [
       "            count unique                top  freq         mean          std  \\\n",
       "transaction  2520      2       New Property  1429          NaN          NaN   \n",
       "balcony      2520      8                  2   826          NaN          NaN   \n",
       "bathroom     2520     11                  3  1278          NaN          NaN   \n",
       "overlooking  2520     13                      794          NaN          NaN   \n",
       "ownership    2520      5           Freehold  1924          NaN          NaN   \n",
       "super area   2520    337                     1474          NaN          NaN   \n",
       "car parking  2520     35                      936          NaN          NaN   \n",
       "floor        2520    184  2 out of 3 floors   223          NaN          NaN   \n",
       "carpet area  2520    350                     1054          NaN          NaN   \n",
       "dimensions   2520     40                     2446          NaN          NaN   \n",
       "society      2520     98                     1072          NaN          NaN   \n",
       "status       2520     45      Ready to Move  1661          NaN          NaN   \n",
       "facing       2520      9               East   845          NaN          NaN   \n",
       "furnishing   2520      4     Semi-Furnished  1877          NaN          NaN   \n",
       "price        2520    NaN                NaN   NaN  1.03319e+07  1.90582e+07   \n",
       "BHK          2520     36    3 BHK Apartment  1029          NaN          NaN   \n",
       "\n",
       "             min       25%      50%    75%    max  \n",
       "transaction  NaN       NaN      NaN    NaN    NaN  \n",
       "balcony      NaN       NaN      NaN    NaN    NaN  \n",
       "bathroom     NaN       NaN      NaN    NaN    NaN  \n",
       "overlooking  NaN       NaN      NaN    NaN    NaN  \n",
       "ownership    NaN       NaN      NaN    NaN    NaN  \n",
       "super area   NaN       NaN      NaN    NaN    NaN  \n",
       "car parking  NaN       NaN      NaN    NaN    NaN  \n",
       "floor        NaN       NaN      NaN    NaN    NaN  \n",
       "carpet area  NaN       NaN      NaN    NaN    NaN  \n",
       "dimensions   NaN       NaN      NaN    NaN    NaN  \n",
       "society      NaN       NaN      NaN    NaN    NaN  \n",
       "status       NaN       NaN      NaN    NaN    NaN  \n",
       "facing       NaN       NaN      NaN    NaN    NaN  \n",
       "furnishing   NaN       NaN      NaN    NaN    NaN  \n",
       "price          0  4.31e+06  5.8e+06  8e+06  3e+08  \n",
       "BHK          NaN       NaN      NaN    NaN    NaN  "
      ]
     },
     "execution_count": 6,
     "metadata": {},
     "output_type": "execute_result"
    }
   ],
   "source": [
    "df.describe(include='all').T"
   ]
  },
  {
   "cell_type": "code",
   "execution_count": 7,
   "metadata": {
    "ExecuteTime": {
     "end_time": "2020-09-07T13:13:30.954133Z",
     "start_time": "2020-09-07T13:13:30.943138Z"
    }
   },
   "outputs": [
    {
     "data": {
      "text/plain": [
       "Index(['transaction', 'balcony', 'bathroom', 'overlooking', 'ownership',\n",
       "       'super area', 'car parking', 'floor', 'carpet area', 'dimensions',\n",
       "       'society', 'status', 'facing', 'furnishing', 'price', 'BHK'],\n",
       "      dtype='object')"
      ]
     },
     "execution_count": 7,
     "metadata": {},
     "output_type": "execute_result"
    }
   ],
   "source": [
    "df.columns"
   ]
  },
  {
   "cell_type": "markdown",
   "metadata": {},
   "source": [
    "# transaction\n",
    "\n"
   ]
  },
  {
   "cell_type": "code",
   "execution_count": 8,
   "metadata": {
    "ExecuteTime": {
     "end_time": "2020-09-07T13:13:30.986113Z",
     "start_time": "2020-09-07T13:13:30.959129Z"
    }
   },
   "outputs": [
    {
     "data": {
      "text/plain": [
       "New Property    1429\n",
       "Resale          1091\n",
       "Name: transaction, dtype: int64"
      ]
     },
     "execution_count": 8,
     "metadata": {},
     "output_type": "execute_result"
    }
   ],
   "source": [
    "df['transaction'].value_counts()"
   ]
  },
  {
   "cell_type": "code",
   "execution_count": 9,
   "metadata": {
    "ExecuteTime": {
     "end_time": "2020-09-07T13:13:31.008101Z",
     "start_time": "2020-09-07T13:13:30.991110Z"
    }
   },
   "outputs": [],
   "source": [
    "df['transaction'] = df['transaction'].astype('category')\n",
    "df['transaction'] = [x.replace(' ','_').lower() for x in df['transaction']]"
   ]
  },
  {
   "cell_type": "markdown",
   "metadata": {
    "ExecuteTime": {
     "end_time": "2020-06-25T21:22:52.111180Z",
     "start_time": "2020-06-25T21:22:52.037223Z"
    }
   },
   "source": [
    "# balcony"
   ]
  },
  {
   "cell_type": "code",
   "execution_count": 10,
   "metadata": {
    "ExecuteTime": {
     "end_time": "2020-09-07T13:13:31.291939Z",
     "start_time": "2020-09-07T13:13:31.279944Z"
    }
   },
   "outputs": [
    {
     "data": {
      "text/plain": [
       "2     826\n",
       "3     715\n",
       "      485\n",
       "4     307\n",
       "1     143\n",
       "5      36\n",
       "6       7\n",
       "10      1\n",
       "Name: balcony, dtype: int64"
      ]
     },
     "execution_count": 10,
     "metadata": {},
     "output_type": "execute_result"
    }
   ],
   "source": [
    "df['balcony'].value_counts()"
   ]
  },
  {
   "cell_type": "code",
   "execution_count": 11,
   "metadata": {
    "ExecuteTime": {
     "end_time": "2020-09-07T13:13:31.417865Z",
     "start_time": "2020-09-07T13:13:31.405874Z"
    }
   },
   "outputs": [],
   "source": [
    "df['balcony'] = [int(i.replace(' ','0')) for i in df.balcony]"
   ]
  },
  {
   "cell_type": "markdown",
   "metadata": {
    "ExecuteTime": {
     "end_time": "2020-06-25T21:29:18.874612Z",
     "start_time": "2020-06-25T21:29:18.866621Z"
    }
   },
   "source": [
    "# bathroom"
   ]
  },
  {
   "cell_type": "code",
   "execution_count": 12,
   "metadata": {
    "ExecuteTime": {
     "end_time": "2020-09-07T13:13:31.974545Z",
     "start_time": "2020-09-07T13:13:31.963552Z"
    }
   },
   "outputs": [
    {
     "data": {
      "text/plain": [
       "3       1278\n",
       "2        752\n",
       "4        235\n",
       "1        136\n",
       "5         71\n",
       "6         27\n",
       "          10\n",
       "7          5\n",
       "8          3\n",
       "9          2\n",
       "> 10       1\n",
       "Name: bathroom, dtype: int64"
      ]
     },
     "execution_count": 12,
     "metadata": {},
     "output_type": "execute_result"
    }
   ],
   "source": [
    "df['bathroom'].value_counts()"
   ]
  },
  {
   "cell_type": "code",
   "execution_count": 13,
   "metadata": {
    "ExecuteTime": {
     "end_time": "2020-09-07T13:13:32.107470Z",
     "start_time": "2020-09-07T13:13:32.088478Z"
    },
    "scrolled": true
   },
   "outputs": [
    {
     "data": {
      "text/plain": [
       "240                  House\n",
       "420                  House\n",
       "482              Apartment\n",
       "601            8 BHK House\n",
       "644        2 BHK Apartment\n",
       "712    2 BHK Builder Floor\n",
       "714                  House\n",
       "716        1 BHK Apartment\n",
       "717            3 BHK House\n",
       "740          Builder Floor\n",
       "Name: BHK, dtype: object"
      ]
     },
     "execution_count": 13,
     "metadata": {},
     "output_type": "execute_result"
    }
   ],
   "source": [
    "df.BHK[[i == ' ' for i in df.bathroom]]"
   ]
  },
  {
   "cell_type": "code",
   "execution_count": 14,
   "metadata": {
    "ExecuteTime": {
     "end_time": "2020-09-07T13:13:32.235394Z",
     "start_time": "2020-09-07T13:13:32.231397Z"
    }
   },
   "outputs": [],
   "source": [
    "#df['bathroom'] = df['bathroom'].replace(' ',np.nan)"
   ]
  },
  {
   "cell_type": "code",
   "execution_count": 15,
   "metadata": {
    "ExecuteTime": {
     "end_time": "2020-09-07T13:13:32.367319Z",
     "start_time": "2020-09-07T13:13:32.349331Z"
    }
   },
   "outputs": [],
   "source": [
    "df['bathroom'] = [int(i.replace('> 10','10')) if i != ' ' else np.nan for i in df['bathroom']]"
   ]
  },
  {
   "cell_type": "markdown",
   "metadata": {
    "ExecuteTime": {
     "end_time": "2020-06-25T21:33:23.864975Z",
     "start_time": "2020-06-25T21:33:23.857997Z"
    }
   },
   "source": [
    "# overlooking"
   ]
  },
  {
   "cell_type": "code",
   "execution_count": 16,
   "metadata": {
    "ExecuteTime": {
     "end_time": "2020-09-07T13:13:34.945045Z",
     "start_time": "2020-09-07T13:13:34.934050Z"
    }
   },
   "outputs": [
    {
     "data": {
      "text/plain": [
       "                                794\n",
       "Garden/Park                     610\n",
       "Garden/Park, Main Road          362\n",
       "Main Road                       334\n",
       "Garden/Park, Pool, Main Road    283\n",
       "Pool, Garden/Park, Main Road     56\n",
       "Garden/Park, Pool                32\n",
       "Main Road, Garden/Park           13\n",
       "Pool, Main Road                  12\n",
       "Main Road, Garden/Park, Pool     11\n",
       "Pool                              8\n",
       "Pool, Garden/Park                 4\n",
       "Main Road, Pool                   1\n",
       "Name: overlooking, dtype: int64"
      ]
     },
     "execution_count": 16,
     "metadata": {},
     "output_type": "execute_result"
    }
   ],
   "source": [
    "df['overlooking'].value_counts()"
   ]
  },
  {
   "cell_type": "code",
   "execution_count": 17,
   "metadata": {
    "ExecuteTime": {
     "end_time": "2020-09-07T13:13:35.262871Z",
     "start_time": "2020-09-07T13:13:35.247872Z"
    }
   },
   "outputs": [],
   "source": [
    "df['overlooking'] = ['None' if i == ' ' else i.replace('/','_') for i in df.overlooking]"
   ]
  },
  {
   "cell_type": "code",
   "execution_count": 18,
   "metadata": {
    "ExecuteTime": {
     "end_time": "2020-09-07T13:13:35.432766Z",
     "start_time": "2020-09-07T13:13:35.425770Z"
    }
   },
   "outputs": [
    {
     "data": {
      "text/plain": [
       "0"
      ]
     },
     "execution_count": 18,
     "metadata": {},
     "output_type": "execute_result"
    }
   ],
   "source": [
    "sum(df['overlooking'].isna())"
   ]
  },
  {
   "cell_type": "code",
   "execution_count": 19,
   "metadata": {
    "ExecuteTime": {
     "end_time": "2020-09-07T13:13:35.655635Z",
     "start_time": "2020-09-07T13:13:35.621657Z"
    }
   },
   "outputs": [
    {
     "data": {
      "text/html": [
       "<div>\n",
       "<style scoped>\n",
       "    .dataframe tbody tr th:only-of-type {\n",
       "        vertical-align: middle;\n",
       "    }\n",
       "\n",
       "    .dataframe tbody tr th {\n",
       "        vertical-align: top;\n",
       "    }\n",
       "\n",
       "    .dataframe thead th {\n",
       "        text-align: right;\n",
       "    }\n",
       "</style>\n",
       "<table border=\"1\" class=\"dataframe\">\n",
       "  <thead>\n",
       "    <tr style=\"text-align: right;\">\n",
       "      <th></th>\n",
       "      <th>Garden_Park</th>\n",
       "      <th>Garden_Park, Main Road</th>\n",
       "      <th>Garden_Park, Pool</th>\n",
       "      <th>Garden_Park, Pool, Main Road</th>\n",
       "      <th>Main Road</th>\n",
       "      <th>Main Road, Garden_Park</th>\n",
       "      <th>Main Road, Garden_Park, Pool</th>\n",
       "      <th>Main Road, Pool</th>\n",
       "      <th>None</th>\n",
       "      <th>Pool</th>\n",
       "      <th>Pool, Garden_Park</th>\n",
       "      <th>Pool, Garden_Park, Main Road</th>\n",
       "      <th>Pool, Main Road</th>\n",
       "    </tr>\n",
       "  </thead>\n",
       "  <tbody>\n",
       "    <tr>\n",
       "      <th>0</th>\n",
       "      <td>0</td>\n",
       "      <td>0</td>\n",
       "      <td>0</td>\n",
       "      <td>0</td>\n",
       "      <td>0</td>\n",
       "      <td>0</td>\n",
       "      <td>0</td>\n",
       "      <td>0</td>\n",
       "      <td>1</td>\n",
       "      <td>0</td>\n",
       "      <td>0</td>\n",
       "      <td>0</td>\n",
       "      <td>0</td>\n",
       "    </tr>\n",
       "    <tr>\n",
       "      <th>1</th>\n",
       "      <td>0</td>\n",
       "      <td>0</td>\n",
       "      <td>0</td>\n",
       "      <td>0</td>\n",
       "      <td>0</td>\n",
       "      <td>0</td>\n",
       "      <td>0</td>\n",
       "      <td>0</td>\n",
       "      <td>1</td>\n",
       "      <td>0</td>\n",
       "      <td>0</td>\n",
       "      <td>0</td>\n",
       "      <td>0</td>\n",
       "    </tr>\n",
       "    <tr>\n",
       "      <th>2</th>\n",
       "      <td>0</td>\n",
       "      <td>0</td>\n",
       "      <td>0</td>\n",
       "      <td>0</td>\n",
       "      <td>0</td>\n",
       "      <td>0</td>\n",
       "      <td>0</td>\n",
       "      <td>0</td>\n",
       "      <td>1</td>\n",
       "      <td>0</td>\n",
       "      <td>0</td>\n",
       "      <td>0</td>\n",
       "      <td>0</td>\n",
       "    </tr>\n",
       "    <tr>\n",
       "      <th>3</th>\n",
       "      <td>0</td>\n",
       "      <td>0</td>\n",
       "      <td>0</td>\n",
       "      <td>0</td>\n",
       "      <td>0</td>\n",
       "      <td>0</td>\n",
       "      <td>0</td>\n",
       "      <td>0</td>\n",
       "      <td>1</td>\n",
       "      <td>0</td>\n",
       "      <td>0</td>\n",
       "      <td>0</td>\n",
       "      <td>0</td>\n",
       "    </tr>\n",
       "    <tr>\n",
       "      <th>4</th>\n",
       "      <td>0</td>\n",
       "      <td>0</td>\n",
       "      <td>0</td>\n",
       "      <td>0</td>\n",
       "      <td>0</td>\n",
       "      <td>0</td>\n",
       "      <td>0</td>\n",
       "      <td>0</td>\n",
       "      <td>1</td>\n",
       "      <td>0</td>\n",
       "      <td>0</td>\n",
       "      <td>0</td>\n",
       "      <td>0</td>\n",
       "    </tr>\n",
       "    <tr>\n",
       "      <th>...</th>\n",
       "      <td>...</td>\n",
       "      <td>...</td>\n",
       "      <td>...</td>\n",
       "      <td>...</td>\n",
       "      <td>...</td>\n",
       "      <td>...</td>\n",
       "      <td>...</td>\n",
       "      <td>...</td>\n",
       "      <td>...</td>\n",
       "      <td>...</td>\n",
       "      <td>...</td>\n",
       "      <td>...</td>\n",
       "      <td>...</td>\n",
       "    </tr>\n",
       "    <tr>\n",
       "      <th>2515</th>\n",
       "      <td>0</td>\n",
       "      <td>0</td>\n",
       "      <td>0</td>\n",
       "      <td>0</td>\n",
       "      <td>0</td>\n",
       "      <td>0</td>\n",
       "      <td>0</td>\n",
       "      <td>0</td>\n",
       "      <td>1</td>\n",
       "      <td>0</td>\n",
       "      <td>0</td>\n",
       "      <td>0</td>\n",
       "      <td>0</td>\n",
       "    </tr>\n",
       "    <tr>\n",
       "      <th>2516</th>\n",
       "      <td>1</td>\n",
       "      <td>0</td>\n",
       "      <td>0</td>\n",
       "      <td>0</td>\n",
       "      <td>0</td>\n",
       "      <td>0</td>\n",
       "      <td>0</td>\n",
       "      <td>0</td>\n",
       "      <td>0</td>\n",
       "      <td>0</td>\n",
       "      <td>0</td>\n",
       "      <td>0</td>\n",
       "      <td>0</td>\n",
       "    </tr>\n",
       "    <tr>\n",
       "      <th>2517</th>\n",
       "      <td>0</td>\n",
       "      <td>0</td>\n",
       "      <td>0</td>\n",
       "      <td>0</td>\n",
       "      <td>0</td>\n",
       "      <td>0</td>\n",
       "      <td>1</td>\n",
       "      <td>0</td>\n",
       "      <td>0</td>\n",
       "      <td>0</td>\n",
       "      <td>0</td>\n",
       "      <td>0</td>\n",
       "      <td>0</td>\n",
       "    </tr>\n",
       "    <tr>\n",
       "      <th>2518</th>\n",
       "      <td>0</td>\n",
       "      <td>0</td>\n",
       "      <td>0</td>\n",
       "      <td>0</td>\n",
       "      <td>0</td>\n",
       "      <td>0</td>\n",
       "      <td>0</td>\n",
       "      <td>0</td>\n",
       "      <td>0</td>\n",
       "      <td>0</td>\n",
       "      <td>0</td>\n",
       "      <td>1</td>\n",
       "      <td>0</td>\n",
       "    </tr>\n",
       "    <tr>\n",
       "      <th>2519</th>\n",
       "      <td>0</td>\n",
       "      <td>0</td>\n",
       "      <td>0</td>\n",
       "      <td>1</td>\n",
       "      <td>0</td>\n",
       "      <td>0</td>\n",
       "      <td>0</td>\n",
       "      <td>0</td>\n",
       "      <td>0</td>\n",
       "      <td>0</td>\n",
       "      <td>0</td>\n",
       "      <td>0</td>\n",
       "      <td>0</td>\n",
       "    </tr>\n",
       "  </tbody>\n",
       "</table>\n",
       "<p>2520 rows × 13 columns</p>\n",
       "</div>"
      ],
      "text/plain": [
       "      Garden_Park  Garden_Park, Main Road  Garden_Park, Pool  \\\n",
       "0               0                       0                  0   \n",
       "1               0                       0                  0   \n",
       "2               0                       0                  0   \n",
       "3               0                       0                  0   \n",
       "4               0                       0                  0   \n",
       "...           ...                     ...                ...   \n",
       "2515            0                       0                  0   \n",
       "2516            1                       0                  0   \n",
       "2517            0                       0                  0   \n",
       "2518            0                       0                  0   \n",
       "2519            0                       0                  0   \n",
       "\n",
       "      Garden_Park, Pool, Main Road  Main Road  Main Road, Garden_Park  \\\n",
       "0                                0          0                       0   \n",
       "1                                0          0                       0   \n",
       "2                                0          0                       0   \n",
       "3                                0          0                       0   \n",
       "4                                0          0                       0   \n",
       "...                            ...        ...                     ...   \n",
       "2515                             0          0                       0   \n",
       "2516                             0          0                       0   \n",
       "2517                             0          0                       0   \n",
       "2518                             0          0                       0   \n",
       "2519                             1          0                       0   \n",
       "\n",
       "      Main Road, Garden_Park, Pool  Main Road, Pool  None  Pool  \\\n",
       "0                                0                0     1     0   \n",
       "1                                0                0     1     0   \n",
       "2                                0                0     1     0   \n",
       "3                                0                0     1     0   \n",
       "4                                0                0     1     0   \n",
       "...                            ...              ...   ...   ...   \n",
       "2515                             0                0     1     0   \n",
       "2516                             0                0     0     0   \n",
       "2517                             1                0     0     0   \n",
       "2518                             0                0     0     0   \n",
       "2519                             0                0     0     0   \n",
       "\n",
       "      Pool, Garden_Park  Pool, Garden_Park, Main Road  Pool, Main Road  \n",
       "0                     0                             0                0  \n",
       "1                     0                             0                0  \n",
       "2                     0                             0                0  \n",
       "3                     0                             0                0  \n",
       "4                     0                             0                0  \n",
       "...                 ...                           ...              ...  \n",
       "2515                  0                             0                0  \n",
       "2516                  0                             0                0  \n",
       "2517                  0                             0                0  \n",
       "2518                  0                             1                0  \n",
       "2519                  0                             0                0  \n",
       "\n",
       "[2520 rows x 13 columns]"
      ]
     },
     "execution_count": 19,
     "metadata": {},
     "output_type": "execute_result"
    }
   ],
   "source": [
    "pd.get_dummies(df['overlooking'])"
   ]
  },
  {
   "cell_type": "code",
   "execution_count": 20,
   "metadata": {
    "ExecuteTime": {
     "end_time": "2020-09-07T13:13:35.915485Z",
     "start_time": "2020-09-07T13:13:35.901494Z"
    }
   },
   "outputs": [
    {
     "data": {
      "text/plain": [
       "0                               None\n",
       "1                               None\n",
       "2                               None\n",
       "3                               None\n",
       "4                               None\n",
       "                    ...             \n",
       "2515                            None\n",
       "2516                     Garden_Park\n",
       "2517    Main Road, Garden_Park, Pool\n",
       "2518    Pool, Garden_Park, Main Road\n",
       "2519    Garden_Park, Pool, Main Road\n",
       "Name: overlooking, Length: 2520, dtype: object"
      ]
     },
     "execution_count": 20,
     "metadata": {},
     "output_type": "execute_result"
    }
   ],
   "source": [
    "df.overlooking[df.overlooking.notna()]"
   ]
  },
  {
   "cell_type": "code",
   "execution_count": 21,
   "metadata": {
    "ExecuteTime": {
     "end_time": "2020-09-07T13:13:36.016429Z",
     "start_time": "2020-09-07T13:13:36.007435Z"
    }
   },
   "outputs": [
    {
     "data": {
      "text/plain": [
       "['Main Road', 'Garden_Park', 'None', 'Pool']"
      ]
     },
     "execution_count": 21,
     "metadata": {},
     "output_type": "execute_result"
    }
   ],
   "source": [
    "var_overlooking = list(set(', '.join(list(df.overlooking[df.overlooking.notna()].unique())).split(', ')))\n",
    "var_overlooking"
   ]
  },
  {
   "cell_type": "code",
   "execution_count": 22,
   "metadata": {
    "ExecuteTime": {
     "end_time": "2020-09-07T13:13:37.836383Z",
     "start_time": "2020-09-07T13:13:36.382218Z"
    }
   },
   "outputs": [
    {
     "name": "stderr",
     "output_type": "stream",
     "text": [
      "C:\\Users\\lenovo\\Anaconda3\\lib\\site-packages\\ipykernel_launcher.py:5: SettingWithCopyWarning: \n",
      "A value is trying to be set on a copy of a slice from a DataFrame\n",
      "\n",
      "See the caveats in the documentation: http://pandas.pydata.org/pandas-docs/stable/user_guide/indexing.html#returning-a-view-versus-a-copy\n",
      "  \"\"\"\n"
     ]
    }
   ],
   "source": [
    "for i in var_overlooking:\n",
    "    df[str('overlooking_' + str(i))] = [0]*len(df['overlooking'])\n",
    "    for x in range(len(df['overlooking'])):\n",
    "        if i in df['overlooking'][x]:\n",
    "            df[str('overlooking_' + str(i))][x] = 1"
   ]
  },
  {
   "cell_type": "code",
   "execution_count": 23,
   "metadata": {
    "ExecuteTime": {
     "end_time": "2020-09-07T13:13:37.898348Z",
     "start_time": "2020-09-07T13:13:37.839380Z"
    }
   },
   "outputs": [
    {
     "data": {
      "text/html": [
       "<div>\n",
       "<style scoped>\n",
       "    .dataframe tbody tr th:only-of-type {\n",
       "        vertical-align: middle;\n",
       "    }\n",
       "\n",
       "    .dataframe tbody tr th {\n",
       "        vertical-align: top;\n",
       "    }\n",
       "\n",
       "    .dataframe thead th {\n",
       "        text-align: right;\n",
       "    }\n",
       "</style>\n",
       "<table border=\"1\" class=\"dataframe\">\n",
       "  <thead>\n",
       "    <tr style=\"text-align: right;\">\n",
       "      <th></th>\n",
       "      <th>transaction</th>\n",
       "      <th>balcony</th>\n",
       "      <th>bathroom</th>\n",
       "      <th>overlooking</th>\n",
       "      <th>ownership</th>\n",
       "      <th>super area</th>\n",
       "      <th>car parking</th>\n",
       "      <th>floor</th>\n",
       "      <th>carpet area</th>\n",
       "      <th>dimensions</th>\n",
       "      <th>society</th>\n",
       "      <th>status</th>\n",
       "      <th>facing</th>\n",
       "      <th>furnishing</th>\n",
       "      <th>price</th>\n",
       "      <th>BHK</th>\n",
       "      <th>overlooking_Main Road</th>\n",
       "      <th>overlooking_Garden_Park</th>\n",
       "      <th>overlooking_None</th>\n",
       "      <th>overlooking_Pool</th>\n",
       "    </tr>\n",
       "  </thead>\n",
       "  <tbody>\n",
       "    <tr>\n",
       "      <th>0</th>\n",
       "      <td>new_property</td>\n",
       "      <td>0</td>\n",
       "      <td>2.0</td>\n",
       "      <td>None</td>\n",
       "      <td></td>\n",
       "      <td>1149 sqft</td>\n",
       "      <td>1 Covered</td>\n",
       "      <td>5 out of 12 floors</td>\n",
       "      <td></td>\n",
       "      <td></td>\n",
       "      <td>GBP Athens</td>\n",
       "      <td>Possession by Jun '21</td>\n",
       "      <td></td>\n",
       "      <td>Semi-Furnished</td>\n",
       "      <td>4880000</td>\n",
       "      <td>2 BHK Apartment</td>\n",
       "      <td>0</td>\n",
       "      <td>0</td>\n",
       "      <td>1</td>\n",
       "      <td>0</td>\n",
       "    </tr>\n",
       "    <tr>\n",
       "      <th>1</th>\n",
       "      <td>new_property</td>\n",
       "      <td>0</td>\n",
       "      <td>3.0</td>\n",
       "      <td>None</td>\n",
       "      <td></td>\n",
       "      <td>1938 sqft</td>\n",
       "      <td>1 Covered</td>\n",
       "      <td>5 out of 12 floors</td>\n",
       "      <td></td>\n",
       "      <td></td>\n",
       "      <td>GBP Athens</td>\n",
       "      <td>Possession by Jun '21</td>\n",
       "      <td></td>\n",
       "      <td>Semi-Furnished</td>\n",
       "      <td>9180000</td>\n",
       "      <td>3 BHK Apartment</td>\n",
       "      <td>0</td>\n",
       "      <td>0</td>\n",
       "      <td>1</td>\n",
       "      <td>0</td>\n",
       "    </tr>\n",
       "    <tr>\n",
       "      <th>2</th>\n",
       "      <td>new_property</td>\n",
       "      <td>0</td>\n",
       "      <td>3.0</td>\n",
       "      <td>None</td>\n",
       "      <td></td>\n",
       "      <td>160 sqyrd</td>\n",
       "      <td>1 Covered</td>\n",
       "      <td></td>\n",
       "      <td></td>\n",
       "      <td></td>\n",
       "      <td>Ananta Lifestyle</td>\n",
       "      <td>Possession by Mar '21</td>\n",
       "      <td></td>\n",
       "      <td>Semi-Furnished</td>\n",
       "      <td>5500000</td>\n",
       "      <td>3 BHK Builder Floor</td>\n",
       "      <td>0</td>\n",
       "      <td>0</td>\n",
       "      <td>1</td>\n",
       "      <td>0</td>\n",
       "    </tr>\n",
       "    <tr>\n",
       "      <th>3</th>\n",
       "      <td>new_property</td>\n",
       "      <td>0</td>\n",
       "      <td>3.0</td>\n",
       "      <td>None</td>\n",
       "      <td>Freehold</td>\n",
       "      <td>1530 sqft</td>\n",
       "      <td>1 Covered</td>\n",
       "      <td>1 out of 18 floors</td>\n",
       "      <td></td>\n",
       "      <td></td>\n",
       "      <td>The Lake</td>\n",
       "      <td>Possession by Jul '21</td>\n",
       "      <td></td>\n",
       "      <td>Unfurnished</td>\n",
       "      <td>6400000</td>\n",
       "      <td>3 BHK Apartment</td>\n",
       "      <td>0</td>\n",
       "      <td>0</td>\n",
       "      <td>1</td>\n",
       "      <td>0</td>\n",
       "    </tr>\n",
       "    <tr>\n",
       "      <th>4</th>\n",
       "      <td>new_property</td>\n",
       "      <td>0</td>\n",
       "      <td>3.0</td>\n",
       "      <td>None</td>\n",
       "      <td></td>\n",
       "      <td>1705 sqft</td>\n",
       "      <td></td>\n",
       "      <td></td>\n",
       "      <td></td>\n",
       "      <td></td>\n",
       "      <td>Gateway Of Dreams</td>\n",
       "      <td>Possession by Jun '20</td>\n",
       "      <td></td>\n",
       "      <td>Unfurnished</td>\n",
       "      <td>6290000</td>\n",
       "      <td>3 BHK Apartment</td>\n",
       "      <td>0</td>\n",
       "      <td>0</td>\n",
       "      <td>1</td>\n",
       "      <td>0</td>\n",
       "    </tr>\n",
       "  </tbody>\n",
       "</table>\n",
       "</div>"
      ],
      "text/plain": [
       "    transaction  balcony  bathroom overlooking ownership super area  \\\n",
       "0  new_property        0       2.0        None            1149 sqft   \n",
       "1  new_property        0       3.0        None            1938 sqft   \n",
       "2  new_property        0       3.0        None            160 sqyrd   \n",
       "3  new_property        0       3.0        None  Freehold  1530 sqft   \n",
       "4  new_property        0       3.0        None            1705 sqft   \n",
       "\n",
       "  car parking               floor carpet area dimensions            society  \\\n",
       "0   1 Covered  5 out of 12 floors                                GBP Athens   \n",
       "1   1 Covered  5 out of 12 floors                                GBP Athens   \n",
       "2   1 Covered                                              Ananta Lifestyle   \n",
       "3   1 Covered  1 out of 18 floors                                  The Lake   \n",
       "4                                                         Gateway Of Dreams   \n",
       "\n",
       "                  status facing      furnishing    price                  BHK  \\\n",
       "0  Possession by Jun '21         Semi-Furnished  4880000      2 BHK Apartment   \n",
       "1  Possession by Jun '21         Semi-Furnished  9180000      3 BHK Apartment   \n",
       "2  Possession by Mar '21         Semi-Furnished  5500000  3 BHK Builder Floor   \n",
       "3  Possession by Jul '21            Unfurnished  6400000      3 BHK Apartment   \n",
       "4  Possession by Jun '20            Unfurnished  6290000      3 BHK Apartment   \n",
       "\n",
       "   overlooking_Main Road  overlooking_Garden_Park  overlooking_None  \\\n",
       "0                      0                        0                 1   \n",
       "1                      0                        0                 1   \n",
       "2                      0                        0                 1   \n",
       "3                      0                        0                 1   \n",
       "4                      0                        0                 1   \n",
       "\n",
       "   overlooking_Pool  \n",
       "0                 0  \n",
       "1                 0  \n",
       "2                 0  \n",
       "3                 0  \n",
       "4                 0  "
      ]
     },
     "execution_count": 23,
     "metadata": {},
     "output_type": "execute_result"
    }
   ],
   "source": [
    "df.head()"
   ]
  },
  {
   "cell_type": "code",
   "execution_count": 24,
   "metadata": {
    "ExecuteTime": {
     "end_time": "2020-09-07T13:13:37.910341Z",
     "start_time": "2020-09-07T13:13:37.903342Z"
    }
   },
   "outputs": [],
   "source": [
    "df.drop('overlooking',inplace=True,axis=1)"
   ]
  },
  {
   "cell_type": "markdown",
   "metadata": {
    "ExecuteTime": {
     "end_time": "2020-06-25T21:57:33.438292Z",
     "start_time": "2020-06-25T21:57:33.431298Z"
    }
   },
   "source": [
    "# ownership"
   ]
  },
  {
   "cell_type": "code",
   "execution_count": 25,
   "metadata": {
    "ExecuteTime": {
     "end_time": "2020-09-07T13:13:37.929329Z",
     "start_time": "2020-09-07T13:13:37.913336Z"
    }
   },
   "outputs": [
    {
     "data": {
      "text/plain": [
       "Freehold                1924\n",
       "                         566\n",
       "Leasehold                 21\n",
       "Co-operative Society       5\n",
       "Power Of Attorney          4\n",
       "Name: ownership, dtype: int64"
      ]
     },
     "execution_count": 25,
     "metadata": {},
     "output_type": "execute_result"
    }
   ],
   "source": [
    "df.ownership.value_counts()"
   ]
  },
  {
   "cell_type": "code",
   "execution_count": 26,
   "metadata": {
    "ExecuteTime": {
     "end_time": "2020-09-07T13:13:37.962313Z",
     "start_time": "2020-09-07T13:13:37.934327Z"
    }
   },
   "outputs": [],
   "source": [
    "df['ownership'] = [np.nan if i == ' ' else i.replace(' ','_').replace('-','_') for i in df['ownership']]"
   ]
  },
  {
   "cell_type": "code",
   "execution_count": 27,
   "metadata": {
    "ExecuteTime": {
     "end_time": "2020-09-07T13:13:38.458028Z",
     "start_time": "2020-09-07T13:13:38.449030Z"
    }
   },
   "outputs": [
    {
     "data": {
      "text/plain": [
       "array([nan, 'Freehold', 'Co_operative_Society', 'Leasehold',\n",
       "       'Power_Of_Attorney'], dtype=object)"
      ]
     },
     "execution_count": 27,
     "metadata": {},
     "output_type": "execute_result"
    }
   ],
   "source": [
    "df.ownership.unique()"
   ]
  },
  {
   "cell_type": "markdown",
   "metadata": {
    "ExecuteTime": {
     "end_time": "2020-06-25T22:02:39.083178Z",
     "start_time": "2020-06-25T22:02:39.078181Z"
    }
   },
   "source": [
    "# super area and carpet area\n",
    "\n",
    "Carpet area is the area enclosed within the walls of your flat. ... Super built-up area or saleable area is the total built-up area of your flat (explained above) plus your proportionate share of the common amenities in your building complex.It is also called the saleable area.\n",
    "\n",
    "Area in Square Foot\n",
    "\n",
    "\n",
    "One ground is commonly taken as 2400 square feet and approximately one half ground is used as a small and standard lot to construct a small individual house in small towns in India."
   ]
  },
  {
   "cell_type": "code",
   "execution_count": 28,
   "metadata": {
    "ExecuteTime": {
     "end_time": "2020-09-07T13:13:39.101655Z",
     "start_time": "2020-09-07T13:13:39.091663Z"
    }
   },
   "outputs": [
    {
     "data": {
      "text/plain": [
       "0       1149 sqft\n",
       "1       1938 sqft\n",
       "2       160 sqyrd\n",
       "3       1530 sqft\n",
       "4       1705 sqft\n",
       "          ...    \n",
       "2515             \n",
       "2516             \n",
       "2517             \n",
       "2518             \n",
       "2519             \n",
       "Name: super area, Length: 2520, dtype: object"
      ]
     },
     "execution_count": 28,
     "metadata": {},
     "output_type": "execute_result"
    }
   ],
   "source": [
    "df['super area']"
   ]
  },
  {
   "cell_type": "code",
   "execution_count": 29,
   "metadata": {
    "ExecuteTime": {
     "end_time": "2020-09-07T13:13:39.236601Z",
     "start_time": "2020-09-07T13:13:39.224588Z"
    }
   },
   "outputs": [],
   "source": [
    "from z3 import *"
   ]
  },
  {
   "cell_type": "code",
   "execution_count": 30,
   "metadata": {
    "ExecuteTime": {
     "end_time": "2020-09-07T13:13:39.417472Z",
     "start_time": "2020-09-07T13:13:39.361507Z"
    }
   },
   "outputs": [],
   "source": [
    "df['super area'] = [eval(i.replace('\\xa0aankadam','*72').replace('\\xa0kanal','*5445').replace('\\xa0sqm','*10.76').replace(' ','0').replace(',','').replace('\\xa0sqyrd','*9').replace('\\xa0sqft','*1').replace('\\xa0marla','*272.251').replace('\\xa0ground','*2400')) for i in df['super area']]"
   ]
  },
  {
   "cell_type": "code",
   "execution_count": 31,
   "metadata": {
    "ExecuteTime": {
     "end_time": "2020-09-07T13:13:39.561388Z",
     "start_time": "2020-09-07T13:13:39.507421Z"
    }
   },
   "outputs": [],
   "source": [
    "df['carpet area'] = [eval(i.replace('\\xa0acre','*43560').replace('\\xa0aankadam','*72').replace('\\xa0kanal','*5445').replace('\\xa0sqm','*10.76').replace(' ','0').replace(',','').replace('\\xa0sqyrd','*9').replace('\\xa0sqft','*1').replace('\\xa0marla','*272.251').replace('\\xa0ground','*2400')) for i in df['carpet area']]"
   ]
  },
  {
   "cell_type": "code",
   "execution_count": 32,
   "metadata": {
    "ExecuteTime": {
     "end_time": "2020-09-07T13:13:40.051107Z",
     "start_time": "2020-09-07T13:13:39.647343Z"
    }
   },
   "outputs": [
    {
     "name": "stderr",
     "output_type": "stream",
     "text": [
      "C:\\Users\\lenovo\\Anaconda3\\lib\\site-packages\\ipykernel_launcher.py:4: SettingWithCopyWarning: \n",
      "A value is trying to be set on a copy of a slice from a DataFrame\n",
      "\n",
      "See the caveats in the documentation: http://pandas.pydata.org/pandas-docs/stable/user_guide/indexing.html#returning-a-view-versus-a-copy\n",
      "  after removing the cwd from sys.path.\n"
     ]
    }
   ],
   "source": [
    "df['Area_type'] = [0] * len(df['carpet area'])\n",
    "for i in range(len(df['carpet area'])):\n",
    "    if df['carpet area'][i] == 0:\n",
    "        df['Area_type'][i] = 1"
   ]
  },
  {
   "cell_type": "markdown",
   "metadata": {},
   "source": [
    "Area Type\n",
    "\n",
    "* 1 : Super Area\n",
    "\n",
    "* 0 : Carpet Area"
   ]
  },
  {
   "cell_type": "code",
   "execution_count": 33,
   "metadata": {
    "ExecuteTime": {
     "end_time": "2020-09-07T13:13:41.008557Z",
     "start_time": "2020-09-07T13:13:40.430889Z"
    }
   },
   "outputs": [
    {
     "name": "stderr",
     "output_type": "stream",
     "text": [
      "C:\\Users\\lenovo\\Anaconda3\\lib\\site-packages\\ipykernel_launcher.py:4: SettingWithCopyWarning: \n",
      "A value is trying to be set on a copy of a slice from a DataFrame\n",
      "\n",
      "See the caveats in the documentation: http://pandas.pydata.org/pandas-docs/stable/user_guide/indexing.html#returning-a-view-versus-a-copy\n",
      "  after removing the cwd from sys.path.\n"
     ]
    }
   ],
   "source": [
    "df['Area'] = df['super area']\n",
    "for i in range(len(df['carpet area'])):\n",
    "    if df['Area_type'][i] == 0:\n",
    "        df['Area'][i] = df['carpet area'][i]"
   ]
  },
  {
   "cell_type": "code",
   "execution_count": 34,
   "metadata": {
    "ExecuteTime": {
     "end_time": "2020-09-07T13:13:41.026547Z",
     "start_time": "2020-09-07T13:13:41.013554Z"
    }
   },
   "outputs": [
    {
     "data": {
      "text/plain": [
       "2520"
      ]
     },
     "execution_count": 34,
     "metadata": {},
     "output_type": "execute_result"
    }
   ],
   "source": [
    "sum(df['Area'].value_counts())"
   ]
  },
  {
   "cell_type": "code",
   "execution_count": 35,
   "metadata": {
    "ExecuteTime": {
     "end_time": "2020-09-07T13:13:41.108898Z",
     "start_time": "2020-09-07T13:13:41.032544Z"
    }
   },
   "outputs": [
    {
     "data": {
      "text/html": [
       "<div>\n",
       "<style scoped>\n",
       "    .dataframe tbody tr th:only-of-type {\n",
       "        vertical-align: middle;\n",
       "    }\n",
       "\n",
       "    .dataframe tbody tr th {\n",
       "        vertical-align: top;\n",
       "    }\n",
       "\n",
       "    .dataframe thead th {\n",
       "        text-align: right;\n",
       "    }\n",
       "</style>\n",
       "<table border=\"1\" class=\"dataframe\">\n",
       "  <thead>\n",
       "    <tr style=\"text-align: right;\">\n",
       "      <th></th>\n",
       "      <th>Unnamed: 0</th>\n",
       "      <th>transaction</th>\n",
       "      <th>balcony</th>\n",
       "      <th>bathroom</th>\n",
       "      <th>overlooking</th>\n",
       "      <th>ownership</th>\n",
       "      <th>super area</th>\n",
       "      <th>car parking</th>\n",
       "      <th>floor</th>\n",
       "      <th>carpet area</th>\n",
       "      <th>dimensions</th>\n",
       "      <th>society</th>\n",
       "      <th>status</th>\n",
       "      <th>facing</th>\n",
       "      <th>furnishing</th>\n",
       "      <th>price</th>\n",
       "      <th>BHK</th>\n",
       "    </tr>\n",
       "  </thead>\n",
       "  <tbody>\n",
       "    <tr>\n",
       "      <th>103</th>\n",
       "      <td>103</td>\n",
       "      <td>Resale</td>\n",
       "      <td></td>\n",
       "      <td>3</td>\n",
       "      <td></td>\n",
       "      <td></td>\n",
       "      <td></td>\n",
       "      <td></td>\n",
       "      <td>Ground out of 3 floors</td>\n",
       "      <td></td>\n",
       "      <td></td>\n",
       "      <td></td>\n",
       "      <td>Ready to Move</td>\n",
       "      <td></td>\n",
       "      <td>Semi-Furnished</td>\n",
       "      <td>24000000</td>\n",
       "      <td>3 BHK Apartment</td>\n",
       "    </tr>\n",
       "    <tr>\n",
       "      <th>263</th>\n",
       "      <td>263</td>\n",
       "      <td>Resale</td>\n",
       "      <td></td>\n",
       "      <td>2</td>\n",
       "      <td></td>\n",
       "      <td></td>\n",
       "      <td></td>\n",
       "      <td></td>\n",
       "      <td>Ground out of 1 floor</td>\n",
       "      <td></td>\n",
       "      <td></td>\n",
       "      <td></td>\n",
       "      <td>Ready to Move</td>\n",
       "      <td></td>\n",
       "      <td>Unfurnished</td>\n",
       "      <td>30000000</td>\n",
       "      <td>3 BHK House</td>\n",
       "    </tr>\n",
       "    <tr>\n",
       "      <th>601</th>\n",
       "      <td>601</td>\n",
       "      <td>Resale</td>\n",
       "      <td>4</td>\n",
       "      <td></td>\n",
       "      <td></td>\n",
       "      <td>Leasehold</td>\n",
       "      <td></td>\n",
       "      <td></td>\n",
       "      <td>2</td>\n",
       "      <td></td>\n",
       "      <td></td>\n",
       "      <td></td>\n",
       "      <td>Ready to Move</td>\n",
       "      <td>North - East</td>\n",
       "      <td></td>\n",
       "      <td>45000000</td>\n",
       "      <td>8 BHK House</td>\n",
       "    </tr>\n",
       "    <tr>\n",
       "      <th>714</th>\n",
       "      <td>714</td>\n",
       "      <td>Resale</td>\n",
       "      <td></td>\n",
       "      <td></td>\n",
       "      <td></td>\n",
       "      <td></td>\n",
       "      <td></td>\n",
       "      <td></td>\n",
       "      <td></td>\n",
       "      <td></td>\n",
       "      <td></td>\n",
       "      <td></td>\n",
       "      <td></td>\n",
       "      <td></td>\n",
       "      <td></td>\n",
       "      <td>0</td>\n",
       "      <td>House</td>\n",
       "    </tr>\n",
       "    <tr>\n",
       "      <th>718</th>\n",
       "      <td>718</td>\n",
       "      <td>Resale</td>\n",
       "      <td>2</td>\n",
       "      <td>5</td>\n",
       "      <td></td>\n",
       "      <td></td>\n",
       "      <td></td>\n",
       "      <td></td>\n",
       "      <td></td>\n",
       "      <td></td>\n",
       "      <td></td>\n",
       "      <td></td>\n",
       "      <td></td>\n",
       "      <td></td>\n",
       "      <td>Unfurnished</td>\n",
       "      <td>0</td>\n",
       "      <td>5 BHK House</td>\n",
       "    </tr>\n",
       "    <tr>\n",
       "      <th>721</th>\n",
       "      <td>721</td>\n",
       "      <td>Resale</td>\n",
       "      <td></td>\n",
       "      <td>2</td>\n",
       "      <td></td>\n",
       "      <td></td>\n",
       "      <td></td>\n",
       "      <td></td>\n",
       "      <td>Ground out of 2 floors</td>\n",
       "      <td></td>\n",
       "      <td></td>\n",
       "      <td></td>\n",
       "      <td></td>\n",
       "      <td></td>\n",
       "      <td>Furnished</td>\n",
       "      <td>0</td>\n",
       "      <td>2 BHK House</td>\n",
       "    </tr>\n",
       "    <tr>\n",
       "      <th>722</th>\n",
       "      <td>722</td>\n",
       "      <td>Resale</td>\n",
       "      <td>1</td>\n",
       "      <td>2</td>\n",
       "      <td></td>\n",
       "      <td></td>\n",
       "      <td></td>\n",
       "      <td></td>\n",
       "      <td>2 out of 2 floors</td>\n",
       "      <td></td>\n",
       "      <td></td>\n",
       "      <td></td>\n",
       "      <td>Ready to Move</td>\n",
       "      <td></td>\n",
       "      <td>Unfurnished</td>\n",
       "      <td>0</td>\n",
       "      <td>2 BHK House</td>\n",
       "    </tr>\n",
       "    <tr>\n",
       "      <th>740</th>\n",
       "      <td>740</td>\n",
       "      <td>Resale</td>\n",
       "      <td></td>\n",
       "      <td></td>\n",
       "      <td></td>\n",
       "      <td></td>\n",
       "      <td></td>\n",
       "      <td></td>\n",
       "      <td></td>\n",
       "      <td></td>\n",
       "      <td></td>\n",
       "      <td></td>\n",
       "      <td></td>\n",
       "      <td></td>\n",
       "      <td></td>\n",
       "      <td>0</td>\n",
       "      <td>Builder Floor</td>\n",
       "    </tr>\n",
       "  </tbody>\n",
       "</table>\n",
       "</div>"
      ],
      "text/plain": [
       "     Unnamed: 0 transaction balcony bathroom overlooking  ownership  \\\n",
       "103         103      Resale                3                          \n",
       "263         263      Resale                2                          \n",
       "601         601      Resale       4                       Leasehold   \n",
       "714         714      Resale                                           \n",
       "718         718      Resale       2        5                          \n",
       "721         721      Resale                2                          \n",
       "722         722      Resale       1        2                          \n",
       "740         740      Resale                                           \n",
       "\n",
       "    super area car parking                   floor carpet area dimensions  \\\n",
       "103                         Ground out of 3 floors                          \n",
       "263                          Ground out of 1 floor                          \n",
       "601                                              2                          \n",
       "714                                                                         \n",
       "718                                                                         \n",
       "721                         Ground out of 2 floors                          \n",
       "722                              2 out of 2 floors                          \n",
       "740                                                                         \n",
       "\n",
       "    society         status        facing      furnishing     price  \\\n",
       "103          Ready to Move                Semi-Furnished  24000000   \n",
       "263          Ready to Move                   Unfurnished  30000000   \n",
       "601          Ready to Move  North - East                  45000000   \n",
       "714                                                              0   \n",
       "718                                          Unfurnished         0   \n",
       "721                                            Furnished         0   \n",
       "722          Ready to Move                   Unfurnished         0   \n",
       "740                                                              0   \n",
       "\n",
       "                 BHK  \n",
       "103  3 BHK Apartment  \n",
       "263      3 BHK House  \n",
       "601      8 BHK House  \n",
       "714            House  \n",
       "718      5 BHK House  \n",
       "721      2 BHK House  \n",
       "722      2 BHK House  \n",
       "740    Builder Floor  "
      ]
     },
     "execution_count": 35,
     "metadata": {},
     "output_type": "execute_result"
    }
   ],
   "source": [
    "df1 = pd.read_csv('Chandigarh.csv')\n",
    "df1[df['Area'] == min(df['Area'])]"
   ]
  },
  {
   "cell_type": "code",
   "execution_count": 36,
   "metadata": {
    "ExecuteTime": {
     "end_time": "2020-09-07T13:13:41.245817Z",
     "start_time": "2020-09-07T13:13:41.238825Z"
    }
   },
   "outputs": [],
   "source": [
    "df.drop(['super area','carpet area'],axis=1,inplace=True)"
   ]
  },
  {
   "cell_type": "markdown",
   "metadata": {
    "ExecuteTime": {
     "end_time": "2020-06-25T22:59:56.810311Z",
     "start_time": "2020-06-25T22:59:56.802314Z"
    }
   },
   "source": [
    "# car parking"
   ]
  },
  {
   "cell_type": "code",
   "execution_count": 37,
   "metadata": {
    "ExecuteTime": {
     "end_time": "2020-09-07T13:13:42.095726Z",
     "start_time": "2020-09-07T13:13:42.079733Z"
    }
   },
   "outputs": [
    {
     "data": {
      "text/plain": [
       "                     936\n",
       "1 Covered            815\n",
       "1 Covered, 1 Open    329\n",
       "1 Open               166\n",
       "2 Covered             99\n",
       "2 Open                43\n",
       "2 Covered, 2 Open     27\n",
       "1 Covered, 2 Open     22\n",
       "3 Covered, 2 Open     14\n",
       "3 Open                11\n",
       "2 Covered, 1 Open     11\n",
       "4 Covered, 2 Open      6\n",
       "4 Open                 4\n",
       "3 Covered              4\n",
       "3 Covered, 1 Open      4\n",
       "3 Covered, 3 Open      3\n",
       "1 Covered, 3 Open      3\n",
       "4 Covered, 4 Open      3\n",
       "2 Covered, 3 Open      2\n",
       "3 Covered, 4 Open      2\n",
       "5 Covered, 2 Open      2\n",
       "803 Covered            1\n",
       "2 Covered, 5 Open      1\n",
       "5 Covered, 4 Open      1\n",
       "2 Covered, 4 Open      1\n",
       "5 Open                 1\n",
       "16 Covered             1\n",
       "5 Covered, 3 Open      1\n",
       "4 Covered              1\n",
       "3 Covered, 5 Open      1\n",
       "1 Covered, 4 Open      1\n",
       "501 Covered            1\n",
       "5 Covered              1\n",
       "101 Covered            1\n",
       "4 Covered, 3 Open      1\n",
       "Name: car parking, dtype: int64"
      ]
     },
     "execution_count": 37,
     "metadata": {},
     "output_type": "execute_result"
    }
   ],
   "source": [
    "df['car parking'].value_counts()"
   ]
  },
  {
   "cell_type": "code",
   "execution_count": 38,
   "metadata": {
    "ExecuteTime": {
     "end_time": "2020-09-07T13:13:44.007218Z",
     "start_time": "2020-09-07T13:13:42.262632Z"
    }
   },
   "outputs": [
    {
     "name": "stderr",
     "output_type": "stream",
     "text": [
      "C:\\Users\\lenovo\\Anaconda3\\lib\\site-packages\\ipykernel_launcher.py:15: SettingWithCopyWarning: \n",
      "A value is trying to be set on a copy of a slice from a DataFrame\n",
      "\n",
      "See the caveats in the documentation: http://pandas.pydata.org/pandas-docs/stable/user_guide/indexing.html#returning-a-view-versus-a-copy\n",
      "  from ipykernel import kernelapp as app\n",
      "C:\\Users\\lenovo\\Anaconda3\\lib\\site-packages\\ipykernel_launcher.py:16: SettingWithCopyWarning: \n",
      "A value is trying to be set on a copy of a slice from a DataFrame\n",
      "\n",
      "See the caveats in the documentation: http://pandas.pydata.org/pandas-docs/stable/user_guide/indexing.html#returning-a-view-versus-a-copy\n",
      "  app.launch_new_instance()\n",
      "C:\\Users\\lenovo\\Anaconda3\\lib\\site-packages\\ipykernel_launcher.py:6: SettingWithCopyWarning: \n",
      "A value is trying to be set on a copy of a slice from a DataFrame\n",
      "\n",
      "See the caveats in the documentation: http://pandas.pydata.org/pandas-docs/stable/user_guide/indexing.html#returning-a-view-versus-a-copy\n",
      "  \n",
      "C:\\Users\\lenovo\\Anaconda3\\lib\\site-packages\\ipykernel_launcher.py:7: SettingWithCopyWarning: \n",
      "A value is trying to be set on a copy of a slice from a DataFrame\n",
      "\n",
      "See the caveats in the documentation: http://pandas.pydata.org/pandas-docs/stable/user_guide/indexing.html#returning-a-view-versus-a-copy\n",
      "  import sys\n",
      "C:\\Users\\lenovo\\Anaconda3\\lib\\site-packages\\ipykernel_launcher.py:11: SettingWithCopyWarning: \n",
      "A value is trying to be set on a copy of a slice from a DataFrame\n",
      "\n",
      "See the caveats in the documentation: http://pandas.pydata.org/pandas-docs/stable/user_guide/indexing.html#returning-a-view-versus-a-copy\n",
      "  # This is added back by InteractiveShellApp.init_path()\n",
      "C:\\Users\\lenovo\\Anaconda3\\lib\\site-packages\\ipykernel_launcher.py:12: SettingWithCopyWarning: \n",
      "A value is trying to be set on a copy of a slice from a DataFrame\n",
      "\n",
      "See the caveats in the documentation: http://pandas.pydata.org/pandas-docs/stable/user_guide/indexing.html#returning-a-view-versus-a-copy\n",
      "  if sys.path[0] == '':\n",
      "C:\\Users\\lenovo\\Anaconda3\\lib\\site-packages\\ipykernel_launcher.py:18: SettingWithCopyWarning: \n",
      "A value is trying to be set on a copy of a slice from a DataFrame\n",
      "\n",
      "See the caveats in the documentation: http://pandas.pydata.org/pandas-docs/stable/user_guide/indexing.html#returning-a-view-versus-a-copy\n",
      "C:\\Users\\lenovo\\Anaconda3\\lib\\site-packages\\ipykernel_launcher.py:19: SettingWithCopyWarning: \n",
      "A value is trying to be set on a copy of a slice from a DataFrame\n",
      "\n",
      "See the caveats in the documentation: http://pandas.pydata.org/pandas-docs/stable/user_guide/indexing.html#returning-a-view-versus-a-copy\n"
     ]
    }
   ],
   "source": [
    "df['Covered_Parking'] = [None]*len(df['car parking'])\n",
    "df['Open_Parking'] = [None]*len(df['car parking'])\n",
    "\n",
    "for i in range(len(df['car parking'])):\n",
    "    if df['car parking'][i] == ' ':\n",
    "        df['Covered_Parking'][i] = 0\n",
    "        df['Open_Parking'][i] = 0\n",
    "    else:\n",
    "        l = df['car parking'][i].split(', ')\n",
    "        if len(l) == 2:\n",
    "            df['Covered_Parking'][i] = int(l[0][0])\n",
    "            df['Open_Parking'][i] = int(l[1][0])\n",
    "        if len(l) == 1:\n",
    "            if 'Covered' in l[0]:\n",
    "                df['Covered_Parking'][i] = int(l[0][0])\n",
    "                df['Open_Parking'][i] = 0\n",
    "            if 'Open' in l[0]:\n",
    "                df['Covered_Parking'][i] = 0\n",
    "                df['Open_Parking'][i] = int(l[0][0])\n",
    "                \n",
    "            \n",
    "            \n",
    "            "
   ]
  },
  {
   "cell_type": "code",
   "execution_count": 39,
   "metadata": {
    "ExecuteTime": {
     "end_time": "2020-09-07T13:13:44.030208Z",
     "start_time": "2020-09-07T13:13:44.012217Z"
    }
   },
   "outputs": [
    {
     "data": {
      "text/plain": [
       "1    1172\n",
       "0    1161\n",
       "2     141\n",
       "3      28\n",
       "4      11\n",
       "5       6\n",
       "8       1\n",
       "Name: Covered_Parking, dtype: int64"
      ]
     },
     "execution_count": 39,
     "metadata": {},
     "output_type": "execute_result"
    }
   ],
   "source": [
    "df.Covered_Parking.value_counts()"
   ]
  },
  {
   "cell_type": "code",
   "execution_count": 40,
   "metadata": {
    "ExecuteTime": {
     "end_time": "2020-09-07T13:13:44.052197Z",
     "start_time": "2020-09-07T13:13:44.035204Z"
    }
   },
   "outputs": [
    {
     "data": {
      "text/plain": [
       "0    1860\n",
       "1     510\n",
       "2     114\n",
       "3      21\n",
       "4      12\n",
       "5       3\n",
       "Name: Open_Parking, dtype: int64"
      ]
     },
     "execution_count": 40,
     "metadata": {},
     "output_type": "execute_result"
    }
   ],
   "source": [
    "df.Open_Parking.value_counts()"
   ]
  },
  {
   "cell_type": "code",
   "execution_count": 41,
   "metadata": {
    "ExecuteTime": {
     "end_time": "2020-09-07T13:13:44.833745Z",
     "start_time": "2020-09-07T13:13:44.606874Z"
    }
   },
   "outputs": [],
   "source": [
    "df['Total_parking'] = [(df.Covered_Parking[i] + df.Open_Parking[i]) for i in range(len(df.Covered_Parking))]"
   ]
  },
  {
   "cell_type": "code",
   "execution_count": 42,
   "metadata": {
    "ExecuteTime": {
     "end_time": "2020-09-07T13:13:46.125750Z",
     "start_time": "2020-09-07T13:13:46.110759Z"
    }
   },
   "outputs": [
    {
     "data": {
      "text/plain": [
       "1    983\n",
       "0    936\n",
       "2    471\n",
       "3     48\n",
       "4     39\n",
       "5     20\n",
       "6     10\n",
       "7      6\n",
       "8      6\n",
       "9      1\n",
       "Name: Total_parking, dtype: int64"
      ]
     },
     "execution_count": 42,
     "metadata": {},
     "output_type": "execute_result"
    }
   ],
   "source": [
    "df['Total_parking'].value_counts()"
   ]
  },
  {
   "cell_type": "code",
   "execution_count": 43,
   "metadata": {
    "ExecuteTime": {
     "end_time": "2020-09-07T13:13:46.872344Z",
     "start_time": "2020-09-07T13:13:46.862340Z"
    }
   },
   "outputs": [],
   "source": [
    "df['parking'] = [1 if i != 0 else i for i in df.Total_parking]"
   ]
  },
  {
   "cell_type": "code",
   "execution_count": 44,
   "metadata": {
    "ExecuteTime": {
     "end_time": "2020-09-07T13:13:47.079222Z",
     "start_time": "2020-09-07T13:13:47.062231Z"
    }
   },
   "outputs": [],
   "source": [
    "df.drop('car parking', axis=1, inplace= True)"
   ]
  },
  {
   "cell_type": "markdown",
   "metadata": {
    "ExecuteTime": {
     "end_time": "2020-06-26T15:58:14.811168Z",
     "start_time": "2020-06-26T15:58:14.799169Z"
    }
   },
   "source": [
    "# floor"
   ]
  },
  {
   "cell_type": "code",
   "execution_count": 45,
   "metadata": {
    "ExecuteTime": {
     "end_time": "2020-09-07T13:13:47.637924Z",
     "start_time": "2020-09-07T13:13:47.625928Z"
    }
   },
   "outputs": [
    {
     "data": {
      "text/plain": [
       "2 out of 3 floors         223\n",
       "1 out of 3 floors         180\n",
       "                          179\n",
       "Ground out of 3 floors    142\n",
       "2 out of 4 floors         119\n",
       "                         ... \n",
       "3 out of 17 floors          1\n",
       "2 out of 18 floors          1\n",
       "2 out of 9 floors           1\n",
       "4 out of 25 floors          1\n",
       "3 out of 25 floors          1\n",
       "Name: floor, Length: 184, dtype: int64"
      ]
     },
     "execution_count": 45,
     "metadata": {},
     "output_type": "execute_result"
    }
   ],
   "source": [
    "df.floor.value_counts()"
   ]
  },
  {
   "cell_type": "code",
   "execution_count": 46,
   "metadata": {
    "ExecuteTime": {
     "end_time": "2020-09-07T13:13:47.653913Z",
     "start_time": "2020-09-07T13:13:47.643917Z"
    }
   },
   "outputs": [
    {
     "data": {
      "text/plain": [
       "'2'"
      ]
     },
     "execution_count": 46,
     "metadata": {},
     "output_type": "execute_result"
    }
   ],
   "source": [
    "'out of 2 floors'[-8]"
   ]
  },
  {
   "cell_type": "code",
   "execution_count": 47,
   "metadata": {
    "ExecuteTime": {
     "end_time": "2020-09-07T13:13:48.005233Z",
     "start_time": "2020-09-07T13:13:47.992241Z"
    }
   },
   "outputs": [
    {
     "data": {
      "text/plain": [
       "601    8 BHK House\n",
       "Name: BHK, dtype: object"
      ]
     },
     "execution_count": 47,
     "metadata": {},
     "output_type": "execute_result"
    }
   ],
   "source": [
    "df.BHK[[i == '2' for i in df.floor]]"
   ]
  },
  {
   "cell_type": "code",
   "execution_count": 48,
   "metadata": {
    "ExecuteTime": {
     "end_time": "2020-09-07T13:13:48.384416Z",
     "start_time": "2020-09-07T13:13:48.370427Z"
    }
   },
   "outputs": [
    {
     "name": "stdout",
     "output_type": "stream",
     "text": [
      "16\n"
     ]
    }
   ],
   "source": [
    "print(sum(['Apartment' in i for i in df.BHK[[i == ' ' for i in df.floor]]]))"
   ]
  },
  {
   "cell_type": "code",
   "execution_count": 49,
   "metadata": {
    "ExecuteTime": {
     "end_time": "2020-09-07T13:13:50.333984Z",
     "start_time": "2020-09-07T13:13:48.863163Z"
    }
   },
   "outputs": [
    {
     "name": "stderr",
     "output_type": "stream",
     "text": [
      "C:\\Users\\lenovo\\Anaconda3\\lib\\site-packages\\ipykernel_launcher.py:17: SettingWithCopyWarning: \n",
      "A value is trying to be set on a copy of a slice from a DataFrame\n",
      "\n",
      "See the caveats in the documentation: http://pandas.pydata.org/pandas-docs/stable/user_guide/indexing.html#returning-a-view-versus-a-copy\n",
      "C:\\Users\\lenovo\\Anaconda3\\lib\\site-packages\\ipykernel_launcher.py:18: SettingWithCopyWarning: \n",
      "A value is trying to be set on a copy of a slice from a DataFrame\n",
      "\n",
      "See the caveats in the documentation: http://pandas.pydata.org/pandas-docs/stable/user_guide/indexing.html#returning-a-view-versus-a-copy\n",
      "C:\\Users\\lenovo\\Anaconda3\\lib\\site-packages\\ipykernel_launcher.py:6: SettingWithCopyWarning: \n",
      "A value is trying to be set on a copy of a slice from a DataFrame\n",
      "\n",
      "See the caveats in the documentation: http://pandas.pydata.org/pandas-docs/stable/user_guide/indexing.html#returning-a-view-versus-a-copy\n",
      "  \n",
      "C:\\Users\\lenovo\\Anaconda3\\lib\\site-packages\\ipykernel_launcher.py:7: SettingWithCopyWarning: \n",
      "A value is trying to be set on a copy of a slice from a DataFrame\n",
      "\n",
      "See the caveats in the documentation: http://pandas.pydata.org/pandas-docs/stable/user_guide/indexing.html#returning-a-view-versus-a-copy\n",
      "  import sys\n",
      "C:\\Users\\lenovo\\Anaconda3\\lib\\site-packages\\ipykernel_launcher.py:14: SettingWithCopyWarning: \n",
      "A value is trying to be set on a copy of a slice from a DataFrame\n",
      "\n",
      "See the caveats in the documentation: http://pandas.pydata.org/pandas-docs/stable/user_guide/indexing.html#returning-a-view-versus-a-copy\n",
      "  \n",
      "C:\\Users\\lenovo\\Anaconda3\\lib\\site-packages\\ipykernel_launcher.py:15: SettingWithCopyWarning: \n",
      "A value is trying to be set on a copy of a slice from a DataFrame\n",
      "\n",
      "See the caveats in the documentation: http://pandas.pydata.org/pandas-docs/stable/user_guide/indexing.html#returning-a-view-versus-a-copy\n",
      "  from ipykernel import kernelapp as app\n",
      "C:\\Users\\lenovo\\Anaconda3\\lib\\site-packages\\ipykernel_launcher.py:9: SettingWithCopyWarning: \n",
      "A value is trying to be set on a copy of a slice from a DataFrame\n",
      "\n",
      "See the caveats in the documentation: http://pandas.pydata.org/pandas-docs/stable/user_guide/indexing.html#returning-a-view-versus-a-copy\n",
      "  if __name__ == '__main__':\n",
      "C:\\Users\\lenovo\\Anaconda3\\lib\\site-packages\\ipykernel_launcher.py:10: SettingWithCopyWarning: \n",
      "A value is trying to be set on a copy of a slice from a DataFrame\n",
      "\n",
      "See the caveats in the documentation: http://pandas.pydata.org/pandas-docs/stable/user_guide/indexing.html#returning-a-view-versus-a-copy\n",
      "  # Remove the CWD from sys.path while we load stuff.\n"
     ]
    }
   ],
   "source": [
    "df['floor_number'] = [None]*len(df['floor'])\n",
    "df['total_floors'] = [None]*len(df['floor'])\n",
    "\n",
    "for i in range(len(df.floor)):\n",
    "    if df.floor[i] == ' ':\n",
    "        df['floor_number'][i] = np.nan\n",
    "        df['total_floors'][i] = np.nan\n",
    "    elif df.floor[i] == '2':\n",
    "        df['floor_number'][i] = '0'\n",
    "        df['total_floors'][i] = '2'\n",
    "    else:\n",
    "        l = df['floor'][i].split(' ')\n",
    "        if len(l) == 6:\n",
    "            df['floor_number'][i] = ' '.join(l[0:2])\n",
    "            df['total_floors'][i] = l[-2]\n",
    "        if len(l) == 5:\n",
    "            df['floor_number'][i] = l[0]\n",
    "            df['total_floors'][i] = l[-2]\n",
    "            "
   ]
  },
  {
   "cell_type": "code",
   "execution_count": 50,
   "metadata": {
    "ExecuteTime": {
     "end_time": "2020-09-07T13:13:50.502902Z",
     "start_time": "2020-09-07T13:13:50.486910Z"
    }
   },
   "outputs": [],
   "source": [
    "df.drop('floor',axis=1,inplace=True)"
   ]
  },
  {
   "cell_type": "markdown",
   "metadata": {
    "ExecuteTime": {
     "end_time": "2020-06-26T18:07:34.546544Z",
     "start_time": "2020-06-26T18:07:34.540549Z"
    }
   },
   "source": [
    "# dimesions"
   ]
  },
  {
   "cell_type": "code",
   "execution_count": 51,
   "metadata": {
    "ExecuteTime": {
     "end_time": "2020-09-07T13:13:50.660805Z",
     "start_time": "2020-09-07T13:13:50.647814Z"
    }
   },
   "outputs": [
    {
     "data": {
      "text/plain": [
       "                          2446\n",
       "25 X 10 yrd Sqyrd           11\n",
       "20 X 50 yrd Sqyrd            9\n",
       "50 X 10 yrd Sqyrd            5\n",
       "15 X 6.67 yrd Sqyrd          4\n",
       "25 X 20 yrd Sqyrd            4\n",
       "30 X 16.67 yrd Sqyrd         4\n",
       "30 X 66.67 yrd Sqyrd         2\n",
       "20 X 12.5 yrd Sqyrd          2\n",
       "15 X 33.33 yrd Sqyrd         2\n",
       "90 X 50 ft Sqft              2\n",
       "500 X 1 ft Sqft              1\n",
       "45 X 12 ft Sqft              1\n",
       "30 X 20.67 yrd Sqyrd         1\n",
       "22 X 50 yrd Sqyrd            1\n",
       "26 X 10 yrd Sqyrd            1\n",
       "70 X 14 ft Sqft              1\n",
       "20 X 45 ft Sqft              1\n",
       "43 X 12 ft Sqft              1\n",
       "22 X 48 ft Sqft              1\n",
       "28 X 80 yrd Sqyrd            1\n",
       "25 X 10.48 ft Sqft           1\n",
       "40 X 28 ft Sqft              1\n",
       "50 X 5 yrd Sqyrd             1\n",
       "25 X 10 ft Sqft              1\n",
       "45 X 20 ft Sqft              1\n",
       "54.98 X 3.11 yrd Sqyrd       1\n",
       "100 X 47 ft Sqft             1\n",
       "15 X 11.27 ft Sqft           1\n",
       "14.38 X 8 yrd Sqyrd          1\n",
       "8.93 X 28 ft Sqft            1\n",
       "50 X 5 ft Sqft               1\n",
       "38 X 75 yrd Sqyrd            1\n",
       "42 X 22 ft Sqft              1\n",
       "50 X 13 ft Sqft              1\n",
       "60 X 30 ft Sqft              1\n",
       "25 X 20 ft Sqft              1\n",
       "45 X 16 yrd Sqyrd            1\n",
       "35.71 X 70 ft Sqft           1\n",
       "95 X 50 ft Sqft              1\n",
       "Name: dimensions, dtype: int64"
      ]
     },
     "execution_count": 51,
     "metadata": {},
     "output_type": "execute_result"
    }
   ],
   "source": [
    "df.dimensions.value_counts()"
   ]
  },
  {
   "cell_type": "code",
   "execution_count": 52,
   "metadata": {
    "ExecuteTime": {
     "end_time": "2020-09-07T13:13:50.685794Z",
     "start_time": "2020-09-07T13:13:50.679796Z"
    }
   },
   "outputs": [],
   "source": [
    "df.drop('dimensions',axis=1,inplace=True)"
   ]
  },
  {
   "cell_type": "markdown",
   "metadata": {
    "ExecuteTime": {
     "end_time": "2020-06-26T18:09:24.064668Z",
     "start_time": "2020-06-26T18:09:24.057684Z"
    }
   },
   "source": [
    "# society"
   ]
  },
  {
   "cell_type": "code",
   "execution_count": 53,
   "metadata": {
    "ExecuteTime": {
     "end_time": "2020-09-07T13:13:51.222005Z",
     "start_time": "2020-09-07T13:13:51.210012Z"
    }
   },
   "outputs": [
    {
     "data": {
      "text/plain": [
       "                          1072\n",
       "Sushma Valencia            163\n",
       "SAVITRY GREENS             144\n",
       "Uptown Skylla               73\n",
       "Sushma Grande               58\n",
       "                          ... \n",
       "Canum VIP Enclave            1\n",
       "Chandigarh Royale City       1\n",
       "Shivalik Heights             1\n",
       "Marble Arch                  1\n",
       "Garden Homes 2               1\n",
       "Name: society, Length: 98, dtype: int64"
      ]
     },
     "execution_count": 53,
     "metadata": {},
     "output_type": "execute_result"
    }
   ],
   "source": [
    "df.society.value_counts()"
   ]
  },
  {
   "cell_type": "code",
   "execution_count": null,
   "metadata": {
    "ExecuteTime": {
     "end_time": "2020-06-26T18:33:51.530618Z",
     "start_time": "2020-06-26T18:33:51.515630Z"
    }
   },
   "outputs": [],
   "source": []
  },
  {
   "cell_type": "code",
   "execution_count": 54,
   "metadata": {
    "ExecuteTime": {
     "end_time": "2020-09-07T13:13:51.919631Z",
     "start_time": "2020-09-07T13:13:51.911636Z"
    }
   },
   "outputs": [],
   "source": [
    "df.society = ['NG' if i == ' ' else i.replace(' ','_').upper() for i in df.society]"
   ]
  },
  {
   "cell_type": "code",
   "execution_count": 55,
   "metadata": {
    "ExecuteTime": {
     "end_time": "2020-09-07T13:13:52.222922Z",
     "start_time": "2020-09-07T13:13:52.217926Z"
    }
   },
   "outputs": [],
   "source": [
    "#df.society = ['others' if i in list(df.society.value_counts().index[df.society.value_counts().values < 5]) else i for i in df.society]"
   ]
  },
  {
   "cell_type": "code",
   "execution_count": 56,
   "metadata": {
    "ExecuteTime": {
     "end_time": "2020-09-07T13:13:52.553906Z",
     "start_time": "2020-09-07T13:13:52.535917Z"
    }
   },
   "outputs": [
    {
     "data": {
      "text/plain": [
       "NG                            1072\n",
       "SUSHMA_VALENCIA                163\n",
       "SAVITRY_GREENS                 144\n",
       "UPTOWN_SKYLLA                   73\n",
       "SUSHMA_GRANDE                   58\n",
       "                              ... \n",
       "WILLOW_HOMES                     1\n",
       "KINGS_VALLEY                     1\n",
       "SURYA_TOWER                      1\n",
       "CHANDIGARH_ENCLAVE_PROJECT       1\n",
       "PARAS_PANORAMA                   1\n",
       "Name: society, Length: 98, dtype: int64"
      ]
     },
     "execution_count": 56,
     "metadata": {},
     "output_type": "execute_result"
    }
   ],
   "source": [
    "df.society.value_counts()"
   ]
  },
  {
   "cell_type": "markdown",
   "metadata": {
    "ExecuteTime": {
     "end_time": "2020-06-26T18:35:15.690858Z",
     "start_time": "2020-06-26T18:35:15.682864Z"
    }
   },
   "source": [
    "# status"
   ]
  },
  {
   "cell_type": "code",
   "execution_count": 57,
   "metadata": {
    "ExecuteTime": {
     "end_time": "2020-09-07T13:13:53.130582Z",
     "start_time": "2020-09-07T13:13:53.113592Z"
    }
   },
   "outputs": [
    {
     "data": {
      "text/plain": [
       "Ready to Move            1661\n",
       "Possession by Dec '20     141\n",
       "Possession by Dec '21      79\n",
       "Possession by Aug '20      60\n",
       "                           58\n",
       "Possession by Sep '20      54\n",
       "Possession by Dec '22      51\n",
       "Possession by Mar '21      43\n",
       "Possession by Jun '21      42\n",
       "Possession by Jan '21      34\n",
       "Possession by Apr '21      27\n",
       "Possession by Jul '21      26\n",
       "Possession by May '21      24\n",
       "Possession by Jul '20      23\n",
       "Possession by Nov '20      22\n",
       "Possession by Oct '20      21\n",
       "Possession by Sep '21      17\n",
       "Possession by Mar '22      16\n",
       "Possession by Feb '22      14\n",
       "Possession by Dec '23      11\n",
       "Possession by Apr '22      10\n",
       "Possession by May '22       9\n",
       "Possession by Jun '22       8\n",
       "Possession by Oct '22       8\n",
       "Possession by Feb '21       7\n",
       "Possession by Jun '20       6\n",
       "Possession by Sep '22       6\n",
       "Possession by Jan '22       5\n",
       "Possession by May '23       5\n",
       "Possession by Oct '21       5\n",
       "Possession by Aug '23       4\n",
       "Possession by Jul '22       4\n",
       "Possession by Apr '23       3\n",
       "Possession by Aug '21       2\n",
       "Possession by Feb '23       2\n",
       "Possession by Mar '23       2\n",
       "Possession by Nov '21       2\n",
       "Possession by Oct '23       1\n",
       "Possession by Mar '24       1\n",
       "Possession by Nov '22       1\n",
       "Possession by Jun '23       1\n",
       "Possession by Jan '23       1\n",
       "Possession by Aug '22       1\n",
       "Possession by Jul '23       1\n",
       "Possession by Sep '24       1\n",
       "Name: status, dtype: int64"
      ]
     },
     "execution_count": 57,
     "metadata": {},
     "output_type": "execute_result"
    }
   ],
   "source": [
    "df.status.value_counts()"
   ]
  },
  {
   "cell_type": "code",
   "execution_count": 58,
   "metadata": {
    "ExecuteTime": {
     "end_time": "2020-09-07T13:13:53.238031Z",
     "start_time": "2020-09-07T13:13:53.232034Z"
    }
   },
   "outputs": [],
   "source": [
    "df.status = [np.nan if i == ' ' else 'Ready_to_Move' if i == 'Ready to Move' else 'Possession' for i in df.status]"
   ]
  },
  {
   "cell_type": "code",
   "execution_count": 59,
   "metadata": {
    "ExecuteTime": {
     "end_time": "2020-09-07T13:13:53.393951Z",
     "start_time": "2020-09-07T13:13:53.385945Z"
    }
   },
   "outputs": [
    {
     "data": {
      "text/plain": [
       "58"
      ]
     },
     "execution_count": 59,
     "metadata": {},
     "output_type": "execute_result"
    }
   ],
   "source": [
    "sum(df.status.isna())"
   ]
  },
  {
   "cell_type": "markdown",
   "metadata": {
    "ExecuteTime": {
     "end_time": "2020-07-04T18:27:17.790848Z",
     "start_time": "2020-07-04T18:27:17.783853Z"
    }
   },
   "source": [
    "# facing"
   ]
  },
  {
   "cell_type": "code",
   "execution_count": 60,
   "metadata": {
    "ExecuteTime": {
     "end_time": "2020-09-07T13:13:54.178006Z",
     "start_time": "2020-09-07T13:13:54.165017Z"
    }
   },
   "outputs": [
    {
     "data": {
      "text/plain": [
       "East            845\n",
       "                644\n",
       "North - East    624\n",
       "North           153\n",
       "North - West     91\n",
       "South - East     79\n",
       "South -West      59\n",
       "West             14\n",
       "South            11\n",
       "Name: facing, dtype: int64"
      ]
     },
     "execution_count": 60,
     "metadata": {},
     "output_type": "execute_result"
    }
   ],
   "source": [
    "df.facing.value_counts()"
   ]
  },
  {
   "cell_type": "code",
   "execution_count": 61,
   "metadata": {
    "ExecuteTime": {
     "end_time": "2020-09-07T13:13:54.290940Z",
     "start_time": "2020-09-07T13:13:54.282947Z"
    }
   },
   "outputs": [],
   "source": [
    "df.facing = [np.nan if i == ' ' else i.replace(' ','').replace('-','_') for i in df.facing]"
   ]
  },
  {
   "cell_type": "markdown",
   "metadata": {
    "ExecuteTime": {
     "end_time": "2020-07-05T09:20:37.332689Z",
     "start_time": "2020-07-05T09:20:37.316694Z"
    }
   },
   "source": [
    "# furnishing"
   ]
  },
  {
   "cell_type": "code",
   "execution_count": 62,
   "metadata": {
    "ExecuteTime": {
     "end_time": "2020-09-07T13:13:55.505191Z",
     "start_time": "2020-09-07T13:13:55.495180Z"
    }
   },
   "outputs": [
    {
     "data": {
      "text/plain": [
       "Semi-Furnished    1877\n",
       "Unfurnished        462\n",
       "Furnished          173\n",
       "                     8\n",
       "Name: furnishing, dtype: int64"
      ]
     },
     "execution_count": 62,
     "metadata": {},
     "output_type": "execute_result"
    }
   ],
   "source": [
    "df.furnishing.value_counts()"
   ]
  },
  {
   "cell_type": "code",
   "execution_count": 63,
   "metadata": {
    "ExecuteTime": {
     "end_time": "2020-09-07T13:13:56.418659Z",
     "start_time": "2020-09-07T13:13:56.401670Z"
    }
   },
   "outputs": [],
   "source": [
    "df.furnishing = [np.nan if i == ' ' else i.replace(' ','').replace('-','_') for i in df.furnishing]"
   ]
  },
  {
   "cell_type": "markdown",
   "metadata": {
    "ExecuteTime": {
     "end_time": "2020-07-05T09:21:50.859489Z",
     "start_time": "2020-07-05T09:21:50.843499Z"
    }
   },
   "source": [
    "# BHK"
   ]
  },
  {
   "cell_type": "code",
   "execution_count": 64,
   "metadata": {
    "ExecuteTime": {
     "end_time": "2020-09-07T13:13:57.059803Z",
     "start_time": "2020-09-07T13:13:57.048807Z"
    }
   },
   "outputs": [
    {
     "data": {
      "text/plain": [
       "3 BHK Apartment        1029\n",
       "3 BHK Builder Floor     380\n",
       "2 BHK Apartment         342\n",
       "4 BHK Apartment         120\n",
       "2 BHK Builder Floor     102\n",
       "3 BHK House              80\n",
       "4 BHK House              69\n",
       "4 BHK Builder Floor      46\n",
       "1 BHK Apartment          44\n",
       "2 BHK House              44\n",
       "5 BHK House              37\n",
       "3 BHK Villa              29\n",
       "6 BHK House              28\n",
       "4 BHK Villa              27\n",
       "1 BHK Builder Floor      23\n",
       "6 BHK Villa              17\n",
       "Studio Apartment         17\n",
       "5 BHK Apartment          12\n",
       "5 BHK Villa              12\n",
       "7 BHK House               9\n",
       "3 BHK Penthouse           9\n",
       "1 BHK House               7\n",
       "4 BHK Penthouse           7\n",
       "2 BHK Villa               6\n",
       "5 BHK Builder Floor       3\n",
       "House                     3\n",
       "7 BHK Villa               3\n",
       "> 10 BHK House            3\n",
       "5 BHK Penthouse           3\n",
       "8 BHK House               2\n",
       "6 BHK Builder Floor       2\n",
       "10 BHK House              1\n",
       "2 BHK Penthouse           1\n",
       "9 BHK Villa               1\n",
       "Builder Floor             1\n",
       "Apartment                 1\n",
       "Name: BHK, dtype: int64"
      ]
     },
     "execution_count": 64,
     "metadata": {},
     "output_type": "execute_result"
    }
   ],
   "source": [
    "df.BHK.value_counts()"
   ]
  },
  {
   "cell_type": "code",
   "execution_count": 65,
   "metadata": {
    "ExecuteTime": {
     "end_time": "2020-09-07T13:13:58.217166Z",
     "start_time": "2020-09-07T13:13:58.213172Z"
    }
   },
   "outputs": [],
   "source": [
    "building_type = ['Apartment','House','Builder Floor','Penthouse','Villa','Studio Apartment']"
   ]
  },
  {
   "cell_type": "code",
   "execution_count": 66,
   "metadata": {
    "ExecuteTime": {
     "end_time": "2020-09-07T13:14:00.022774Z",
     "start_time": "2020-09-07T13:13:58.716891Z"
    }
   },
   "outputs": [
    {
     "name": "stderr",
     "output_type": "stream",
     "text": [
      "C:\\Users\\lenovo\\Anaconda3\\lib\\site-packages\\ipykernel_launcher.py:6: SettingWithCopyWarning: \n",
      "A value is trying to be set on a copy of a slice from a DataFrame\n",
      "\n",
      "See the caveats in the documentation: http://pandas.pydata.org/pandas-docs/stable/user_guide/indexing.html#returning-a-view-versus-a-copy\n",
      "  \n"
     ]
    }
   ],
   "source": [
    "df['building_type'] = [None]*len(df.BHK)\n",
    "\n",
    "for i in building_type:\n",
    "    for x in range(len(df.BHK)):\n",
    "        if i in df.BHK[x]:\n",
    "            df['building_type'][x] = i"
   ]
  },
  {
   "cell_type": "code",
   "execution_count": 67,
   "metadata": {
    "ExecuteTime": {
     "end_time": "2020-09-07T13:14:00.275143Z",
     "start_time": "2020-09-07T13:14:00.254155Z"
    }
   },
   "outputs": [
    {
     "name": "stdout",
     "output_type": "stream",
     "text": [
      "Apartment           1548\n",
      "Builder Floor        557\n",
      "House                283\n",
      "Villa                 95\n",
      "Penthouse             20\n",
      "Studio Apartment      17\n",
      "Name: building_type, dtype: int64\n",
      "2520\n"
     ]
    }
   ],
   "source": [
    "print(df['building_type'].value_counts())\n",
    "\n",
    "print(sum(df['building_type'].value_counts()))"
   ]
  },
  {
   "cell_type": "code",
   "execution_count": 68,
   "metadata": {
    "ExecuteTime": {
     "end_time": "2020-09-07T13:14:03.729716Z",
     "start_time": "2020-09-07T13:14:01.029721Z"
    }
   },
   "outputs": [
    {
     "name": "stderr",
     "output_type": "stream",
     "text": [
      "C:\\Users\\lenovo\\Anaconda3\\lib\\site-packages\\ipykernel_launcher.py:6: SettingWithCopyWarning: \n",
      "A value is trying to be set on a copy of a slice from a DataFrame\n",
      "\n",
      "See the caveats in the documentation: http://pandas.pydata.org/pandas-docs/stable/user_guide/indexing.html#returning-a-view-versus-a-copy\n",
      "  \n",
      "C:\\Users\\lenovo\\Anaconda3\\lib\\site-packages\\ipykernel_launcher.py:8: SettingWithCopyWarning: \n",
      "A value is trying to be set on a copy of a slice from a DataFrame\n",
      "\n",
      "See the caveats in the documentation: http://pandas.pydata.org/pandas-docs/stable/user_guide/indexing.html#returning-a-view-versus-a-copy\n",
      "  \n"
     ]
    }
   ],
   "source": [
    "df['Bhk_count'] = [np.nan]*len(df.BHK)\n",
    "\n",
    "for i in range(1,11,1):\n",
    "    for x in range(len(df.BHK)):\n",
    "        if str(i) in df.BHK[x]:\n",
    "            df['Bhk_count'][x] = i\n",
    "        if 'Studio Apartment' in df.BHK[x]:\n",
    "            df['Bhk_count'][x] = 0"
   ]
  },
  {
   "cell_type": "code",
   "execution_count": 69,
   "metadata": {
    "ExecuteTime": {
     "end_time": "2020-09-07T13:14:03.941109Z",
     "start_time": "2020-09-07T13:14:03.931114Z"
    }
   },
   "outputs": [
    {
     "data": {
      "text/plain": [
       "5"
      ]
     },
     "execution_count": 69,
     "metadata": {},
     "output_type": "execute_result"
    }
   ],
   "source": [
    "sum(df['Bhk_count'].isna())"
   ]
  },
  {
   "cell_type": "code",
   "execution_count": 70,
   "metadata": {
    "ExecuteTime": {
     "end_time": "2020-09-07T13:14:04.245943Z",
     "start_time": "2020-09-07T13:14:04.237949Z"
    }
   },
   "outputs": [],
   "source": [
    "df.drop('BHK',axis=1,inplace=True)"
   ]
  },
  {
   "cell_type": "markdown",
   "metadata": {},
   "source": [
    "# Pandas Profile Report"
   ]
  },
  {
   "cell_type": "code",
   "execution_count": 70,
   "metadata": {
    "ExecuteTime": {
     "end_time": "2020-07-07T20:46:29.456914Z",
     "start_time": "2020-07-07T20:46:25.399818Z"
    }
   },
   "outputs": [],
   "source": [
    "import pandas_profiling as pp"
   ]
  },
  {
   "cell_type": "code",
   "execution_count": 71,
   "metadata": {
    "ExecuteTime": {
     "end_time": "2020-07-07T20:46:29.464910Z",
     "start_time": "2020-07-07T20:46:29.456914Z"
    }
   },
   "outputs": [],
   "source": [
    "#pp.ProfileReport(df)"
   ]
  },
  {
   "cell_type": "markdown",
   "metadata": {},
   "source": [
    "# Missing data Treatment"
   ]
  },
  {
   "cell_type": "code",
   "execution_count": 70,
   "metadata": {
    "ExecuteTime": {
     "end_time": "2020-08-11T12:05:19.528904Z",
     "start_time": "2020-08-11T12:05:19.496924Z"
    }
   },
   "outputs": [
    {
     "name": "stdout",
     "output_type": "stream",
     "text": [
      "transaction  :  0\n",
      "balcony  :  0\n",
      "bathroom  :  10\n",
      "ownership  :  566\n",
      "society  :  0\n",
      "status  :  58\n",
      "facing  :  644\n",
      "furnishing  :  8\n",
      "price  :  0\n",
      "overlooking_None  :  0\n",
      "overlooking_Main Road  :  0\n",
      "overlooking_Pool  :  0\n",
      "overlooking_Garden_Park  :  0\n",
      "Area_type  :  0\n",
      "Area  :  0\n",
      "Covered_Parking  :  0\n",
      "Open_Parking  :  0\n",
      "Total_parking  :  0\n",
      "parking  :  0\n",
      "floor_number  :  179\n",
      "total_floors  :  179\n",
      "building_type  :  0\n",
      "Bhk_count  :  5\n"
     ]
    }
   ],
   "source": [
    "for cols in df.columns:\n",
    "    print(cols,' : ',sum(df[cols].isna()))"
   ]
  },
  {
   "cell_type": "raw",
   "metadata": {
    "ExecuteTime": {
     "end_time": "2020-07-05T16:19:29.118369Z",
     "start_time": "2020-07-05T16:19:29.090359Z"
    }
   },
   "source": [
    "#ownership  \n",
    "df = pd.concat([df,pd.get_dummies(df['ownership'],prefix='ownership')],axis=1)\n",
    "df.drop('ownership',axis=1,inplace=True)"
   ]
  },
  {
   "cell_type": "raw",
   "metadata": {
    "ExecuteTime": {
     "end_time": "2020-07-05T16:19:29.142643Z",
     "start_time": "2020-07-05T16:19:29.118369Z"
    }
   },
   "source": [
    "#facing\n",
    "df = pd.concat([df,pd.get_dummies(df['facing'],prefix='facing')],axis=1)\n",
    "df.drop('facing',axis=1,inplace=True)"
   ]
  },
  {
   "cell_type": "raw",
   "metadata": {
    "ExecuteTime": {
     "end_time": "2020-07-05T16:19:29.170976Z",
     "start_time": "2020-07-05T16:19:29.142643Z"
    }
   },
   "source": [
    "#status \n",
    "df = pd.concat([df,pd.get_dummies(df['status'],prefix='status',drop_first=True)],axis=1,)\n",
    "df.drop('status',axis=1,inplace=True)"
   ]
  },
  {
   "cell_type": "code",
   "execution_count": 71,
   "metadata": {
    "ExecuteTime": {
     "end_time": "2020-09-07T13:14:13.271855Z",
     "start_time": "2020-09-07T13:14:13.260854Z"
    }
   },
   "outputs": [
    {
     "data": {
      "text/plain": [
       "Villa            95\n",
       "House            61\n",
       "Apartment        16\n",
       "Builder Floor     4\n",
       "Penthouse         3\n",
       "Name: building_type, dtype: int64"
      ]
     },
     "execution_count": 71,
     "metadata": {},
     "output_type": "execute_result"
    }
   ],
   "source": [
    "#floor_number  \n",
    "\n",
    "df.building_type[df['floor_number'].isna()].value_counts()"
   ]
  },
  {
   "cell_type": "code",
   "execution_count": 72,
   "metadata": {
    "ExecuteTime": {
     "end_time": "2020-09-07T13:14:13.769560Z",
     "start_time": "2020-09-07T13:14:13.757568Z"
    }
   },
   "outputs": [
    {
     "data": {
      "text/plain": [
       "Ground            150\n",
       "1                  29\n",
       "2                  24\n",
       "3                  13\n",
       "4                   1\n",
       "200                 1\n",
       "0                   1\n",
       "Lower Basement      1\n",
       "Upper Basement      1\n",
       "5                   1\n",
       "Name: floor_number, dtype: int64"
      ]
     },
     "execution_count": 72,
     "metadata": {},
     "output_type": "execute_result"
    }
   ],
   "source": [
    "df.floor_number[df.building_type == 'House'].value_counts()"
   ]
  },
  {
   "cell_type": "raw",
   "metadata": {
    "ExecuteTime": {
     "end_time": "2020-07-05T16:19:29.231562Z",
     "start_time": "2020-07-05T16:19:29.211548Z"
    }
   },
   "source": [
    "df = pd.concat([df,pd.get_dummies(df['floor_number'],prefix='floor_number',drop_first=True)],axis=1,)\n",
    "df.drop('floor_number',axis=1,inplace=True)"
   ]
  },
  {
   "cell_type": "code",
   "execution_count": 73,
   "metadata": {
    "ExecuteTime": {
     "end_time": "2020-09-07T13:14:14.857612Z",
     "start_time": "2020-09-07T13:14:14.843620Z"
    }
   },
   "outputs": [
    {
     "data": {
      "text/plain": [
       "Villa            95\n",
       "House            61\n",
       "Apartment        16\n",
       "Builder Floor     4\n",
       "Penthouse         3\n",
       "Name: building_type, dtype: int64"
      ]
     },
     "execution_count": 73,
     "metadata": {},
     "output_type": "execute_result"
    }
   ],
   "source": [
    "#total_floors \n",
    "df.building_type[df['total_floors'].isna()].value_counts()"
   ]
  },
  {
   "cell_type": "code",
   "execution_count": 74,
   "metadata": {
    "ExecuteTime": {
     "end_time": "2020-09-07T13:14:15.384799Z",
     "start_time": "2020-09-07T13:14:15.378803Z"
    }
   },
   "outputs": [],
   "source": [
    "df.drop('total_floors',axis=1,inplace=True)"
   ]
  },
  {
   "cell_type": "code",
   "execution_count": 75,
   "metadata": {
    "ExecuteTime": {
     "end_time": "2020-09-07T13:14:15.813555Z",
     "start_time": "2020-09-07T13:14:15.786568Z"
    }
   },
   "outputs": [
    {
     "data": {
      "text/html": [
       "<div>\n",
       "<style scoped>\n",
       "    .dataframe tbody tr th:only-of-type {\n",
       "        vertical-align: middle;\n",
       "    }\n",
       "\n",
       "    .dataframe tbody tr th {\n",
       "        vertical-align: top;\n",
       "    }\n",
       "\n",
       "    .dataframe thead th {\n",
       "        text-align: right;\n",
       "    }\n",
       "</style>\n",
       "<table border=\"1\" class=\"dataframe\">\n",
       "  <thead>\n",
       "    <tr style=\"text-align: right;\">\n",
       "      <th></th>\n",
       "      <th>Bhk_count</th>\n",
       "      <th>building_type</th>\n",
       "      <th>furnishing</th>\n",
       "    </tr>\n",
       "  </thead>\n",
       "  <tbody>\n",
       "    <tr>\n",
       "      <th>240</th>\n",
       "      <td>NaN</td>\n",
       "      <td>House</td>\n",
       "      <td>Unfurnished</td>\n",
       "    </tr>\n",
       "    <tr>\n",
       "      <th>420</th>\n",
       "      <td>NaN</td>\n",
       "      <td>House</td>\n",
       "      <td>Semi_Furnished</td>\n",
       "    </tr>\n",
       "    <tr>\n",
       "      <th>482</th>\n",
       "      <td>NaN</td>\n",
       "      <td>Apartment</td>\n",
       "      <td>NaN</td>\n",
       "    </tr>\n",
       "    <tr>\n",
       "      <th>601</th>\n",
       "      <td>8.0</td>\n",
       "      <td>House</td>\n",
       "      <td>NaN</td>\n",
       "    </tr>\n",
       "    <tr>\n",
       "      <th>644</th>\n",
       "      <td>2.0</td>\n",
       "      <td>Apartment</td>\n",
       "      <td>Furnished</td>\n",
       "    </tr>\n",
       "    <tr>\n",
       "      <th>712</th>\n",
       "      <td>2.0</td>\n",
       "      <td>Builder Floor</td>\n",
       "      <td>NaN</td>\n",
       "    </tr>\n",
       "    <tr>\n",
       "      <th>714</th>\n",
       "      <td>NaN</td>\n",
       "      <td>House</td>\n",
       "      <td>NaN</td>\n",
       "    </tr>\n",
       "    <tr>\n",
       "      <th>716</th>\n",
       "      <td>1.0</td>\n",
       "      <td>Apartment</td>\n",
       "      <td>NaN</td>\n",
       "    </tr>\n",
       "    <tr>\n",
       "      <th>717</th>\n",
       "      <td>3.0</td>\n",
       "      <td>House</td>\n",
       "      <td>NaN</td>\n",
       "    </tr>\n",
       "    <tr>\n",
       "      <th>740</th>\n",
       "      <td>NaN</td>\n",
       "      <td>Builder Floor</td>\n",
       "      <td>NaN</td>\n",
       "    </tr>\n",
       "  </tbody>\n",
       "</table>\n",
       "</div>"
      ],
      "text/plain": [
       "     Bhk_count  building_type      furnishing\n",
       "240        NaN          House     Unfurnished\n",
       "420        NaN          House  Semi_Furnished\n",
       "482        NaN      Apartment             NaN\n",
       "601        8.0          House             NaN\n",
       "644        2.0      Apartment       Furnished\n",
       "712        2.0  Builder Floor             NaN\n",
       "714        NaN          House             NaN\n",
       "716        1.0      Apartment             NaN\n",
       "717        3.0          House             NaN\n",
       "740        NaN  Builder Floor             NaN"
      ]
     },
     "execution_count": 75,
     "metadata": {},
     "output_type": "execute_result"
    }
   ],
   "source": [
    "#bathroom  \n",
    "df[['Bhk_count','building_type','furnishing']][df['bathroom'].isna()]"
   ]
  },
  {
   "cell_type": "code",
   "execution_count": 76,
   "metadata": {
    "ExecuteTime": {
     "end_time": "2020-09-07T13:14:16.431196Z",
     "start_time": "2020-09-07T13:14:16.422204Z"
    }
   },
   "outputs": [],
   "source": [
    "df = df[~df['bathroom'].isna()]"
   ]
  },
  {
   "cell_type": "code",
   "execution_count": 77,
   "metadata": {
    "ExecuteTime": {
     "end_time": "2020-09-07T13:14:17.061179Z",
     "start_time": "2020-09-07T13:14:17.052183Z"
    }
   },
   "outputs": [
    {
     "data": {
      "text/plain": [
       "0"
      ]
     },
     "execution_count": 77,
     "metadata": {},
     "output_type": "execute_result"
    }
   ],
   "source": [
    "#Bhk_count  \n",
    "\n",
    "sum(df['Bhk_count'].isna())"
   ]
  },
  {
   "cell_type": "code",
   "execution_count": 78,
   "metadata": {
    "ExecuteTime": {
     "end_time": "2020-09-07T13:14:17.445956Z",
     "start_time": "2020-09-07T13:14:17.433964Z"
    }
   },
   "outputs": [
    {
     "name": "stdout",
     "output_type": "stream",
     "text": [
      "1     0\n"
     ]
    }
   ],
   "source": [
    "#furnishing  \n",
    "\n",
    "print(sum(df['furnishing'].isna()),'   ',sum(df1['furnishing'].isna()))"
   ]
  },
  {
   "cell_type": "code",
   "execution_count": 79,
   "metadata": {
    "ExecuteTime": {
     "end_time": "2020-09-07T13:14:17.794755Z",
     "start_time": "2020-09-07T13:14:17.786761Z"
    }
   },
   "outputs": [],
   "source": [
    "df = df[~df['furnishing'].isna()]"
   ]
  },
  {
   "cell_type": "code",
   "execution_count": 80,
   "metadata": {
    "ExecuteTime": {
     "end_time": "2020-09-07T13:14:18.113572Z",
     "start_time": "2020-09-07T13:14:18.098579Z"
    }
   },
   "outputs": [
    {
     "data": {
      "text/plain": [
       "transaction                  0\n",
       "balcony                      0\n",
       "bathroom                     0\n",
       "ownership                  557\n",
       "society                      0\n",
       "status                      54\n",
       "facing                     635\n",
       "furnishing                   0\n",
       "price                        0\n",
       "overlooking_Main Road        0\n",
       "overlooking_Garden_Park      0\n",
       "overlooking_None             0\n",
       "overlooking_Pool             0\n",
       "Area_type                    0\n",
       "Area                         0\n",
       "Covered_Parking              0\n",
       "Open_Parking                 0\n",
       "Total_parking                0\n",
       "parking                      0\n",
       "floor_number               171\n",
       "building_type                0\n",
       "Bhk_count                    0\n",
       "dtype: int64"
      ]
     },
     "execution_count": 80,
     "metadata": {},
     "output_type": "execute_result"
    }
   ],
   "source": [
    "df.isna().sum()"
   ]
  },
  {
   "cell_type": "code",
   "execution_count": 81,
   "metadata": {
    "ExecuteTime": {
     "end_time": "2020-09-07T13:14:18.810129Z",
     "start_time": "2020-09-07T13:14:18.800130Z"
    }
   },
   "outputs": [],
   "source": [
    "df.columns = [x.lower() for x in df.columns]"
   ]
  },
  {
   "cell_type": "code",
   "execution_count": 82,
   "metadata": {
    "ExecuteTime": {
     "end_time": "2020-09-07T13:14:19.454989Z",
     "start_time": "2020-09-07T13:14:19.363045Z"
    }
   },
   "outputs": [],
   "source": [
    "df.to_csv('cleaned.csv',index=False)"
   ]
  },
  {
   "cell_type": "code",
   "execution_count": 83,
   "metadata": {
    "ExecuteTime": {
     "end_time": "2020-09-07T13:14:20.085627Z",
     "start_time": "2020-09-07T13:14:20.004679Z"
    }
   },
   "outputs": [
    {
     "data": {
      "text/html": [
       "<div>\n",
       "<style scoped>\n",
       "    .dataframe tbody tr th:only-of-type {\n",
       "        vertical-align: middle;\n",
       "    }\n",
       "\n",
       "    .dataframe tbody tr th {\n",
       "        vertical-align: top;\n",
       "    }\n",
       "\n",
       "    .dataframe thead th {\n",
       "        text-align: right;\n",
       "    }\n",
       "</style>\n",
       "<table border=\"1\" class=\"dataframe\">\n",
       "  <thead>\n",
       "    <tr style=\"text-align: right;\">\n",
       "      <th></th>\n",
       "      <th>transaction</th>\n",
       "      <th>balcony</th>\n",
       "      <th>bathroom</th>\n",
       "      <th>ownership</th>\n",
       "      <th>society</th>\n",
       "      <th>status</th>\n",
       "      <th>facing</th>\n",
       "      <th>furnishing</th>\n",
       "      <th>price</th>\n",
       "      <th>overlooking_main road</th>\n",
       "      <th>...</th>\n",
       "      <th>overlooking_pool</th>\n",
       "      <th>area_type</th>\n",
       "      <th>area</th>\n",
       "      <th>covered_parking</th>\n",
       "      <th>open_parking</th>\n",
       "      <th>total_parking</th>\n",
       "      <th>parking</th>\n",
       "      <th>floor_number</th>\n",
       "      <th>building_type</th>\n",
       "      <th>bhk_count</th>\n",
       "    </tr>\n",
       "  </thead>\n",
       "  <tbody>\n",
       "    <tr>\n",
       "      <th>0</th>\n",
       "      <td>new_property</td>\n",
       "      <td>0</td>\n",
       "      <td>2.0</td>\n",
       "      <td>NaN</td>\n",
       "      <td>GBP_ATHENS</td>\n",
       "      <td>Possession</td>\n",
       "      <td>NaN</td>\n",
       "      <td>Semi_Furnished</td>\n",
       "      <td>4880000</td>\n",
       "      <td>0</td>\n",
       "      <td>...</td>\n",
       "      <td>0</td>\n",
       "      <td>1</td>\n",
       "      <td>1149.0</td>\n",
       "      <td>1</td>\n",
       "      <td>0</td>\n",
       "      <td>1</td>\n",
       "      <td>1</td>\n",
       "      <td>5</td>\n",
       "      <td>Apartment</td>\n",
       "      <td>2.0</td>\n",
       "    </tr>\n",
       "    <tr>\n",
       "      <th>1</th>\n",
       "      <td>new_property</td>\n",
       "      <td>0</td>\n",
       "      <td>3.0</td>\n",
       "      <td>NaN</td>\n",
       "      <td>GBP_ATHENS</td>\n",
       "      <td>Possession</td>\n",
       "      <td>NaN</td>\n",
       "      <td>Semi_Furnished</td>\n",
       "      <td>9180000</td>\n",
       "      <td>0</td>\n",
       "      <td>...</td>\n",
       "      <td>0</td>\n",
       "      <td>1</td>\n",
       "      <td>1938.0</td>\n",
       "      <td>1</td>\n",
       "      <td>0</td>\n",
       "      <td>1</td>\n",
       "      <td>1</td>\n",
       "      <td>5</td>\n",
       "      <td>Apartment</td>\n",
       "      <td>3.0</td>\n",
       "    </tr>\n",
       "    <tr>\n",
       "      <th>2</th>\n",
       "      <td>new_property</td>\n",
       "      <td>0</td>\n",
       "      <td>3.0</td>\n",
       "      <td>NaN</td>\n",
       "      <td>ANANTA_LIFESTYLE</td>\n",
       "      <td>Possession</td>\n",
       "      <td>NaN</td>\n",
       "      <td>Semi_Furnished</td>\n",
       "      <td>5500000</td>\n",
       "      <td>0</td>\n",
       "      <td>...</td>\n",
       "      <td>0</td>\n",
       "      <td>1</td>\n",
       "      <td>1440.0</td>\n",
       "      <td>1</td>\n",
       "      <td>0</td>\n",
       "      <td>1</td>\n",
       "      <td>1</td>\n",
       "      <td>NaN</td>\n",
       "      <td>Builder Floor</td>\n",
       "      <td>3.0</td>\n",
       "    </tr>\n",
       "    <tr>\n",
       "      <th>3</th>\n",
       "      <td>new_property</td>\n",
       "      <td>0</td>\n",
       "      <td>3.0</td>\n",
       "      <td>Freehold</td>\n",
       "      <td>THE_LAKE</td>\n",
       "      <td>Possession</td>\n",
       "      <td>NaN</td>\n",
       "      <td>Unfurnished</td>\n",
       "      <td>6400000</td>\n",
       "      <td>0</td>\n",
       "      <td>...</td>\n",
       "      <td>0</td>\n",
       "      <td>1</td>\n",
       "      <td>1530.0</td>\n",
       "      <td>1</td>\n",
       "      <td>0</td>\n",
       "      <td>1</td>\n",
       "      <td>1</td>\n",
       "      <td>1</td>\n",
       "      <td>Apartment</td>\n",
       "      <td>3.0</td>\n",
       "    </tr>\n",
       "    <tr>\n",
       "      <th>4</th>\n",
       "      <td>new_property</td>\n",
       "      <td>0</td>\n",
       "      <td>3.0</td>\n",
       "      <td>NaN</td>\n",
       "      <td>GATEWAY_OF_DREAMS</td>\n",
       "      <td>Possession</td>\n",
       "      <td>NaN</td>\n",
       "      <td>Unfurnished</td>\n",
       "      <td>6290000</td>\n",
       "      <td>0</td>\n",
       "      <td>...</td>\n",
       "      <td>0</td>\n",
       "      <td>1</td>\n",
       "      <td>1705.0</td>\n",
       "      <td>0</td>\n",
       "      <td>0</td>\n",
       "      <td>0</td>\n",
       "      <td>0</td>\n",
       "      <td>NaN</td>\n",
       "      <td>Apartment</td>\n",
       "      <td>3.0</td>\n",
       "    </tr>\n",
       "    <tr>\n",
       "      <th>...</th>\n",
       "      <td>...</td>\n",
       "      <td>...</td>\n",
       "      <td>...</td>\n",
       "      <td>...</td>\n",
       "      <td>...</td>\n",
       "      <td>...</td>\n",
       "      <td>...</td>\n",
       "      <td>...</td>\n",
       "      <td>...</td>\n",
       "      <td>...</td>\n",
       "      <td>...</td>\n",
       "      <td>...</td>\n",
       "      <td>...</td>\n",
       "      <td>...</td>\n",
       "      <td>...</td>\n",
       "      <td>...</td>\n",
       "      <td>...</td>\n",
       "      <td>...</td>\n",
       "      <td>...</td>\n",
       "      <td>...</td>\n",
       "      <td>...</td>\n",
       "    </tr>\n",
       "    <tr>\n",
       "      <th>2515</th>\n",
       "      <td>resale</td>\n",
       "      <td>4</td>\n",
       "      <td>5.0</td>\n",
       "      <td>NaN</td>\n",
       "      <td>SAVITRY_GREENS</td>\n",
       "      <td>Possession</td>\n",
       "      <td>NaN</td>\n",
       "      <td>Unfurnished</td>\n",
       "      <td>8400000</td>\n",
       "      <td>0</td>\n",
       "      <td>...</td>\n",
       "      <td>0</td>\n",
       "      <td>0</td>\n",
       "      <td>1800.0</td>\n",
       "      <td>0</td>\n",
       "      <td>0</td>\n",
       "      <td>0</td>\n",
       "      <td>0</td>\n",
       "      <td>6</td>\n",
       "      <td>Apartment</td>\n",
       "      <td>4.0</td>\n",
       "    </tr>\n",
       "    <tr>\n",
       "      <th>2516</th>\n",
       "      <td>new_property</td>\n",
       "      <td>4</td>\n",
       "      <td>3.0</td>\n",
       "      <td>Freehold</td>\n",
       "      <td>SUSHMA_VALENCIA</td>\n",
       "      <td>Possession</td>\n",
       "      <td>East</td>\n",
       "      <td>Semi_Furnished</td>\n",
       "      <td>5630000</td>\n",
       "      <td>0</td>\n",
       "      <td>...</td>\n",
       "      <td>0</td>\n",
       "      <td>0</td>\n",
       "      <td>1280.0</td>\n",
       "      <td>1</td>\n",
       "      <td>0</td>\n",
       "      <td>1</td>\n",
       "      <td>1</td>\n",
       "      <td>3</td>\n",
       "      <td>Apartment</td>\n",
       "      <td>3.0</td>\n",
       "    </tr>\n",
       "    <tr>\n",
       "      <th>2517</th>\n",
       "      <td>resale</td>\n",
       "      <td>4</td>\n",
       "      <td>5.0</td>\n",
       "      <td>Freehold</td>\n",
       "      <td>SAVITRY_GREENS</td>\n",
       "      <td>Possession</td>\n",
       "      <td>North_East</td>\n",
       "      <td>Semi_Furnished</td>\n",
       "      <td>7990000</td>\n",
       "      <td>1</td>\n",
       "      <td>...</td>\n",
       "      <td>1</td>\n",
       "      <td>0</td>\n",
       "      <td>2000.0</td>\n",
       "      <td>0</td>\n",
       "      <td>0</td>\n",
       "      <td>0</td>\n",
       "      <td>0</td>\n",
       "      <td>5</td>\n",
       "      <td>Apartment</td>\n",
       "      <td>4.0</td>\n",
       "    </tr>\n",
       "    <tr>\n",
       "      <th>2518</th>\n",
       "      <td>new_property</td>\n",
       "      <td>4</td>\n",
       "      <td>3.0</td>\n",
       "      <td>Freehold</td>\n",
       "      <td>UPTOWN_SKYLLA</td>\n",
       "      <td>Possession</td>\n",
       "      <td>East</td>\n",
       "      <td>Unfurnished</td>\n",
       "      <td>6130000</td>\n",
       "      <td>1</td>\n",
       "      <td>...</td>\n",
       "      <td>1</td>\n",
       "      <td>0</td>\n",
       "      <td>1340.0</td>\n",
       "      <td>1</td>\n",
       "      <td>0</td>\n",
       "      <td>1</td>\n",
       "      <td>1</td>\n",
       "      <td>5</td>\n",
       "      <td>Apartment</td>\n",
       "      <td>3.0</td>\n",
       "    </tr>\n",
       "    <tr>\n",
       "      <th>2519</th>\n",
       "      <td>resale</td>\n",
       "      <td>4</td>\n",
       "      <td>4.0</td>\n",
       "      <td>Freehold</td>\n",
       "      <td>MAYA_GARDEN_CITY</td>\n",
       "      <td>Ready_to_Move</td>\n",
       "      <td>North_East</td>\n",
       "      <td>Unfurnished</td>\n",
       "      <td>6300000</td>\n",
       "      <td>1</td>\n",
       "      <td>...</td>\n",
       "      <td>1</td>\n",
       "      <td>0</td>\n",
       "      <td>1800.0</td>\n",
       "      <td>0</td>\n",
       "      <td>0</td>\n",
       "      <td>0</td>\n",
       "      <td>0</td>\n",
       "      <td>4</td>\n",
       "      <td>Apartment</td>\n",
       "      <td>4.0</td>\n",
       "    </tr>\n",
       "  </tbody>\n",
       "</table>\n",
       "<p>2509 rows × 22 columns</p>\n",
       "</div>"
      ],
      "text/plain": [
       "       transaction  balcony  bathroom ownership            society  \\\n",
       "0     new_property        0       2.0       NaN         GBP_ATHENS   \n",
       "1     new_property        0       3.0       NaN         GBP_ATHENS   \n",
       "2     new_property        0       3.0       NaN   ANANTA_LIFESTYLE   \n",
       "3     new_property        0       3.0  Freehold           THE_LAKE   \n",
       "4     new_property        0       3.0       NaN  GATEWAY_OF_DREAMS   \n",
       "...            ...      ...       ...       ...                ...   \n",
       "2515        resale        4       5.0       NaN     SAVITRY_GREENS   \n",
       "2516  new_property        4       3.0  Freehold    SUSHMA_VALENCIA   \n",
       "2517        resale        4       5.0  Freehold     SAVITRY_GREENS   \n",
       "2518  new_property        4       3.0  Freehold      UPTOWN_SKYLLA   \n",
       "2519        resale        4       4.0  Freehold   MAYA_GARDEN_CITY   \n",
       "\n",
       "             status      facing      furnishing    price  \\\n",
       "0        Possession         NaN  Semi_Furnished  4880000   \n",
       "1        Possession         NaN  Semi_Furnished  9180000   \n",
       "2        Possession         NaN  Semi_Furnished  5500000   \n",
       "3        Possession         NaN     Unfurnished  6400000   \n",
       "4        Possession         NaN     Unfurnished  6290000   \n",
       "...             ...         ...             ...      ...   \n",
       "2515     Possession         NaN     Unfurnished  8400000   \n",
       "2516     Possession        East  Semi_Furnished  5630000   \n",
       "2517     Possession  North_East  Semi_Furnished  7990000   \n",
       "2518     Possession        East     Unfurnished  6130000   \n",
       "2519  Ready_to_Move  North_East     Unfurnished  6300000   \n",
       "\n",
       "      overlooking_main road  ...  overlooking_pool  area_type    area  \\\n",
       "0                         0  ...                 0          1  1149.0   \n",
       "1                         0  ...                 0          1  1938.0   \n",
       "2                         0  ...                 0          1  1440.0   \n",
       "3                         0  ...                 0          1  1530.0   \n",
       "4                         0  ...                 0          1  1705.0   \n",
       "...                     ...  ...               ...        ...     ...   \n",
       "2515                      0  ...                 0          0  1800.0   \n",
       "2516                      0  ...                 0          0  1280.0   \n",
       "2517                      1  ...                 1          0  2000.0   \n",
       "2518                      1  ...                 1          0  1340.0   \n",
       "2519                      1  ...                 1          0  1800.0   \n",
       "\n",
       "      covered_parking  open_parking total_parking parking  floor_number  \\\n",
       "0                   1             0             1       1             5   \n",
       "1                   1             0             1       1             5   \n",
       "2                   1             0             1       1           NaN   \n",
       "3                   1             0             1       1             1   \n",
       "4                   0             0             0       0           NaN   \n",
       "...               ...           ...           ...     ...           ...   \n",
       "2515                0             0             0       0             6   \n",
       "2516                1             0             1       1             3   \n",
       "2517                0             0             0       0             5   \n",
       "2518                1             0             1       1             5   \n",
       "2519                0             0             0       0             4   \n",
       "\n",
       "      building_type bhk_count  \n",
       "0         Apartment       2.0  \n",
       "1         Apartment       3.0  \n",
       "2     Builder Floor       3.0  \n",
       "3         Apartment       3.0  \n",
       "4         Apartment       3.0  \n",
       "...             ...       ...  \n",
       "2515      Apartment       4.0  \n",
       "2516      Apartment       3.0  \n",
       "2517      Apartment       4.0  \n",
       "2518      Apartment       3.0  \n",
       "2519      Apartment       4.0  \n",
       "\n",
       "[2509 rows x 22 columns]"
      ]
     },
     "execution_count": 83,
     "metadata": {},
     "output_type": "execute_result"
    }
   ],
   "source": [
    "df"
   ]
  },
  {
   "cell_type": "code",
   "execution_count": null,
   "metadata": {},
   "outputs": [],
   "source": []
  }
 ],
 "metadata": {
  "kernelspec": {
   "display_name": "Python 3",
   "language": "python",
   "name": "python3"
  },
  "language_info": {
   "codemirror_mode": {
    "name": "ipython",
    "version": 3
   },
   "file_extension": ".py",
   "mimetype": "text/x-python",
   "name": "python",
   "nbconvert_exporter": "python",
   "pygments_lexer": "ipython3",
   "version": "3.7.6"
  },
  "toc": {
   "base_numbering": 1,
   "nav_menu": {},
   "number_sections": true,
   "sideBar": true,
   "skip_h1_title": false,
   "title_cell": "Table of Contents",
   "title_sidebar": "Contents",
   "toc_cell": false,
   "toc_position": {
    "height": "calc(100% - 180px)",
    "left": "10px",
    "top": "150px",
    "width": "273.177px"
   },
   "toc_section_display": true,
   "toc_window_display": true
  },
  "varInspector": {
   "cols": {
    "lenName": 16,
    "lenType": 16,
    "lenVar": 40
   },
   "kernels_config": {
    "python": {
     "delete_cmd_postfix": "",
     "delete_cmd_prefix": "del ",
     "library": "var_list.py",
     "varRefreshCmd": "print(var_dic_list())"
    },
    "r": {
     "delete_cmd_postfix": ") ",
     "delete_cmd_prefix": "rm(",
     "library": "var_list.r",
     "varRefreshCmd": "cat(var_dic_list()) "
    }
   },
   "types_to_exclude": [
    "module",
    "function",
    "builtin_function_or_method",
    "instance",
    "_Feature"
   ],
   "window_display": false
  }
 },
 "nbformat": 4,
 "nbformat_minor": 4
}
